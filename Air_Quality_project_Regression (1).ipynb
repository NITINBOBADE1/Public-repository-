{
  "cells": [
    {
      "cell_type": "markdown",
      "metadata": {
        "id": "FLEUbjru2Paj"
      },
      "source": [
        "**Air Quality India (2015-2020) project**"
      ]
    },
    {
      "cell_type": "markdown",
      "metadata": {
        "id": "2gD4h7ss_M5V"
      },
      "source": [
        "**1) The dataset is a collection of pollutant readings across cities in India recorded between 2015 and 2020. The data consists of 26 cities in India, and is split into the following categories: -**\n",
        "\n",
        "  \n",
        "\tCity - 26 cities               \n",
        "\tDate - daily readings between 2015 and 2020\n",
        "\tPM2.5 - Particulate Matter 2.5-micrometer in ug / m3\n",
        "\tPM10 - Particulate Matter 10-micrometer in ug / m3\n",
        "\tNO - Nitric Oxide in ug / m3\n",
        "\tNO2 - Nitric Dioxide in ug / m3\n",
        "\tNOx - Any Nitric x-oxide in ppb\n",
        "\tNH3 - Ammonia in ug / m3\n",
        "\tCO - Carbon Monoxide in mg / m3\n",
        "\tSO2 - Sulphur Dioxide in ug / m3\n",
        "\tO3 - Ozone in ug / m3\n",
        "\tBenzene - Benzene in ug / m3\n",
        "\tToluene - Toluene in ug / m3\n",
        "\tXylene - Xylene in ug / m3\n",
        "\tAQI - Air Quality Index\n",
        "\tAQI Bucket - Air Quality Index Bucket (ranging from 'very poor' to 'good')**\n"
      ]
    },
    {
      "cell_type": "code",
      "execution_count": 1,
      "metadata": {
        "id": "r-3bM2gc17_V"
      },
      "outputs": [],
      "source": [
        "import pandas as pd\n",
        "import numpy as np\n",
        "import seaborn as sns\n",
        "import matplotlib.pyplot as plt\n",
        "import sklearn"
      ]
    },
    {
      "cell_type": "code",
      "execution_count": 3,
      "metadata": {
        "colab": {
          "base_uri": "https://localhost:8080/",
          "height": 73
        },
        "id": "V1Hu9VRXmBKt",
        "outputId": "081a618f-3e17-4c36-a168-16fbb340c9ec"
      },
      "outputs": [
        {
          "output_type": "display_data",
          "data": {
            "text/plain": [
              "<IPython.core.display.HTML object>"
            ],
            "text/html": [
              "\n",
              "     <input type=\"file\" id=\"files-37d7a955-4503-4da3-9c7b-1385716414e4\" name=\"files[]\" multiple disabled\n",
              "        style=\"border:none\" />\n",
              "     <output id=\"result-37d7a955-4503-4da3-9c7b-1385716414e4\">\n",
              "      Upload widget is only available when the cell has been executed in the\n",
              "      current browser session. Please rerun this cell to enable.\n",
              "      </output>\n",
              "      <script>// Copyright 2017 Google LLC\n",
              "//\n",
              "// Licensed under the Apache License, Version 2.0 (the \"License\");\n",
              "// you may not use this file except in compliance with the License.\n",
              "// You may obtain a copy of the License at\n",
              "//\n",
              "//      http://www.apache.org/licenses/LICENSE-2.0\n",
              "//\n",
              "// Unless required by applicable law or agreed to in writing, software\n",
              "// distributed under the License is distributed on an \"AS IS\" BASIS,\n",
              "// WITHOUT WARRANTIES OR CONDITIONS OF ANY KIND, either express or implied.\n",
              "// See the License for the specific language governing permissions and\n",
              "// limitations under the License.\n",
              "\n",
              "/**\n",
              " * @fileoverview Helpers for google.colab Python module.\n",
              " */\n",
              "(function(scope) {\n",
              "function span(text, styleAttributes = {}) {\n",
              "  const element = document.createElement('span');\n",
              "  element.textContent = text;\n",
              "  for (const key of Object.keys(styleAttributes)) {\n",
              "    element.style[key] = styleAttributes[key];\n",
              "  }\n",
              "  return element;\n",
              "}\n",
              "\n",
              "// Max number of bytes which will be uploaded at a time.\n",
              "const MAX_PAYLOAD_SIZE = 100 * 1024;\n",
              "\n",
              "function _uploadFiles(inputId, outputId) {\n",
              "  const steps = uploadFilesStep(inputId, outputId);\n",
              "  const outputElement = document.getElementById(outputId);\n",
              "  // Cache steps on the outputElement to make it available for the next call\n",
              "  // to uploadFilesContinue from Python.\n",
              "  outputElement.steps = steps;\n",
              "\n",
              "  return _uploadFilesContinue(outputId);\n",
              "}\n",
              "\n",
              "// This is roughly an async generator (not supported in the browser yet),\n",
              "// where there are multiple asynchronous steps and the Python side is going\n",
              "// to poll for completion of each step.\n",
              "// This uses a Promise to block the python side on completion of each step,\n",
              "// then passes the result of the previous step as the input to the next step.\n",
              "function _uploadFilesContinue(outputId) {\n",
              "  const outputElement = document.getElementById(outputId);\n",
              "  const steps = outputElement.steps;\n",
              "\n",
              "  const next = steps.next(outputElement.lastPromiseValue);\n",
              "  return Promise.resolve(next.value.promise).then((value) => {\n",
              "    // Cache the last promise value to make it available to the next\n",
              "    // step of the generator.\n",
              "    outputElement.lastPromiseValue = value;\n",
              "    return next.value.response;\n",
              "  });\n",
              "}\n",
              "\n",
              "/**\n",
              " * Generator function which is called between each async step of the upload\n",
              " * process.\n",
              " * @param {string} inputId Element ID of the input file picker element.\n",
              " * @param {string} outputId Element ID of the output display.\n",
              " * @return {!Iterable<!Object>} Iterable of next steps.\n",
              " */\n",
              "function* uploadFilesStep(inputId, outputId) {\n",
              "  const inputElement = document.getElementById(inputId);\n",
              "  inputElement.disabled = false;\n",
              "\n",
              "  const outputElement = document.getElementById(outputId);\n",
              "  outputElement.innerHTML = '';\n",
              "\n",
              "  const pickedPromise = new Promise((resolve) => {\n",
              "    inputElement.addEventListener('change', (e) => {\n",
              "      resolve(e.target.files);\n",
              "    });\n",
              "  });\n",
              "\n",
              "  const cancel = document.createElement('button');\n",
              "  inputElement.parentElement.appendChild(cancel);\n",
              "  cancel.textContent = 'Cancel upload';\n",
              "  const cancelPromise = new Promise((resolve) => {\n",
              "    cancel.onclick = () => {\n",
              "      resolve(null);\n",
              "    };\n",
              "  });\n",
              "\n",
              "  // Wait for the user to pick the files.\n",
              "  const files = yield {\n",
              "    promise: Promise.race([pickedPromise, cancelPromise]),\n",
              "    response: {\n",
              "      action: 'starting',\n",
              "    }\n",
              "  };\n",
              "\n",
              "  cancel.remove();\n",
              "\n",
              "  // Disable the input element since further picks are not allowed.\n",
              "  inputElement.disabled = true;\n",
              "\n",
              "  if (!files) {\n",
              "    return {\n",
              "      response: {\n",
              "        action: 'complete',\n",
              "      }\n",
              "    };\n",
              "  }\n",
              "\n",
              "  for (const file of files) {\n",
              "    const li = document.createElement('li');\n",
              "    li.append(span(file.name, {fontWeight: 'bold'}));\n",
              "    li.append(span(\n",
              "        `(${file.type || 'n/a'}) - ${file.size} bytes, ` +\n",
              "        `last modified: ${\n",
              "            file.lastModifiedDate ? file.lastModifiedDate.toLocaleDateString() :\n",
              "                                    'n/a'} - `));\n",
              "    const percent = span('0% done');\n",
              "    li.appendChild(percent);\n",
              "\n",
              "    outputElement.appendChild(li);\n",
              "\n",
              "    const fileDataPromise = new Promise((resolve) => {\n",
              "      const reader = new FileReader();\n",
              "      reader.onload = (e) => {\n",
              "        resolve(e.target.result);\n",
              "      };\n",
              "      reader.readAsArrayBuffer(file);\n",
              "    });\n",
              "    // Wait for the data to be ready.\n",
              "    let fileData = yield {\n",
              "      promise: fileDataPromise,\n",
              "      response: {\n",
              "        action: 'continue',\n",
              "      }\n",
              "    };\n",
              "\n",
              "    // Use a chunked sending to avoid message size limits. See b/62115660.\n",
              "    let position = 0;\n",
              "    do {\n",
              "      const length = Math.min(fileData.byteLength - position, MAX_PAYLOAD_SIZE);\n",
              "      const chunk = new Uint8Array(fileData, position, length);\n",
              "      position += length;\n",
              "\n",
              "      const base64 = btoa(String.fromCharCode.apply(null, chunk));\n",
              "      yield {\n",
              "        response: {\n",
              "          action: 'append',\n",
              "          file: file.name,\n",
              "          data: base64,\n",
              "        },\n",
              "      };\n",
              "\n",
              "      let percentDone = fileData.byteLength === 0 ?\n",
              "          100 :\n",
              "          Math.round((position / fileData.byteLength) * 100);\n",
              "      percent.textContent = `${percentDone}% done`;\n",
              "\n",
              "    } while (position < fileData.byteLength);\n",
              "  }\n",
              "\n",
              "  // All done.\n",
              "  yield {\n",
              "    response: {\n",
              "      action: 'complete',\n",
              "    }\n",
              "  };\n",
              "}\n",
              "\n",
              "scope.google = scope.google || {};\n",
              "scope.google.colab = scope.google.colab || {};\n",
              "scope.google.colab._files = {\n",
              "  _uploadFiles,\n",
              "  _uploadFilesContinue,\n",
              "};\n",
              "})(self);\n",
              "</script> "
            ]
          },
          "metadata": {}
        },
        {
          "output_type": "stream",
          "name": "stdout",
          "text": [
            "Saving city_day.csv to city_day.csv\n"
          ]
        }
      ],
      "source": [
        "from google.colab import files\n",
        "upload = files.upload()"
      ]
    },
    {
      "cell_type": "code",
      "execution_count": 4,
      "metadata": {
        "id": "hamlownvACVu"
      },
      "outputs": [],
      "source": [
        "import io\n",
        "city_day=pd.read_csv(io.BytesIO(upload['city_day.csv']))"
      ]
    },
    {
      "cell_type": "markdown",
      "metadata": {
        "id": "5i9va_UUAsqI"
      },
      "source": [
        "**Data Description**\n",
        "\n",
        "Describe the dataset with head,shape,discribe,info.\n"
      ]
    },
    {
      "cell_type": "code",
      "execution_count": 7,
      "metadata": {
        "colab": {
          "base_uri": "https://localhost:8080/",
          "height": 206
        },
        "id": "W_mbFzY6AsFB",
        "outputId": "529cea65-cad9-4a34-d7a7-955f1c277286"
      },
      "outputs": [
        {
          "output_type": "execute_result",
          "data": {
            "text/plain": [
              "        City        Date  PM2.5  PM10     NO    NO2    NOx  NH3     CO    SO2  \\\n",
              "0  Ahmedabad  2015-01-01    NaN   NaN   0.92  18.22  17.15  NaN   0.92  27.64   \n",
              "1  Ahmedabad  2015-01-02    NaN   NaN   0.97  15.69  16.46  NaN   0.97  24.55   \n",
              "2  Ahmedabad  2015-01-03    NaN   NaN  17.40  19.30  29.70  NaN  17.40  29.07   \n",
              "3  Ahmedabad  2015-01-04    NaN   NaN   1.70  18.48  17.97  NaN   1.70  18.59   \n",
              "4  Ahmedabad  2015-01-05    NaN   NaN  22.10  21.42  37.76  NaN  22.10  39.33   \n",
              "\n",
              "       O3  Benzene  Toluene  Xylene  AQI AQI_Bucket  \n",
              "0  133.36     0.00     0.02    0.00  NaN        NaN  \n",
              "1   34.06     3.68     5.50    3.77  NaN        NaN  \n",
              "2   30.70     6.80    16.40    2.25  NaN        NaN  \n",
              "3   36.08     4.43    10.14    1.00  NaN        NaN  \n",
              "4   39.31     7.01    18.89    2.78  NaN        NaN  "
            ],
            "text/html": [
              "\n",
              "  <div id=\"df-cb49188f-7848-49d5-98a9-505ff46ff1d0\" class=\"colab-df-container\">\n",
              "    <div>\n",
              "<style scoped>\n",
              "    .dataframe tbody tr th:only-of-type {\n",
              "        vertical-align: middle;\n",
              "    }\n",
              "\n",
              "    .dataframe tbody tr th {\n",
              "        vertical-align: top;\n",
              "    }\n",
              "\n",
              "    .dataframe thead th {\n",
              "        text-align: right;\n",
              "    }\n",
              "</style>\n",
              "<table border=\"1\" class=\"dataframe\">\n",
              "  <thead>\n",
              "    <tr style=\"text-align: right;\">\n",
              "      <th></th>\n",
              "      <th>City</th>\n",
              "      <th>Date</th>\n",
              "      <th>PM2.5</th>\n",
              "      <th>PM10</th>\n",
              "      <th>NO</th>\n",
              "      <th>NO2</th>\n",
              "      <th>NOx</th>\n",
              "      <th>NH3</th>\n",
              "      <th>CO</th>\n",
              "      <th>SO2</th>\n",
              "      <th>O3</th>\n",
              "      <th>Benzene</th>\n",
              "      <th>Toluene</th>\n",
              "      <th>Xylene</th>\n",
              "      <th>AQI</th>\n",
              "      <th>AQI_Bucket</th>\n",
              "    </tr>\n",
              "  </thead>\n",
              "  <tbody>\n",
              "    <tr>\n",
              "      <th>0</th>\n",
              "      <td>Ahmedabad</td>\n",
              "      <td>2015-01-01</td>\n",
              "      <td>NaN</td>\n",
              "      <td>NaN</td>\n",
              "      <td>0.92</td>\n",
              "      <td>18.22</td>\n",
              "      <td>17.15</td>\n",
              "      <td>NaN</td>\n",
              "      <td>0.92</td>\n",
              "      <td>27.64</td>\n",
              "      <td>133.36</td>\n",
              "      <td>0.00</td>\n",
              "      <td>0.02</td>\n",
              "      <td>0.00</td>\n",
              "      <td>NaN</td>\n",
              "      <td>NaN</td>\n",
              "    </tr>\n",
              "    <tr>\n",
              "      <th>1</th>\n",
              "      <td>Ahmedabad</td>\n",
              "      <td>2015-01-02</td>\n",
              "      <td>NaN</td>\n",
              "      <td>NaN</td>\n",
              "      <td>0.97</td>\n",
              "      <td>15.69</td>\n",
              "      <td>16.46</td>\n",
              "      <td>NaN</td>\n",
              "      <td>0.97</td>\n",
              "      <td>24.55</td>\n",
              "      <td>34.06</td>\n",
              "      <td>3.68</td>\n",
              "      <td>5.50</td>\n",
              "      <td>3.77</td>\n",
              "      <td>NaN</td>\n",
              "      <td>NaN</td>\n",
              "    </tr>\n",
              "    <tr>\n",
              "      <th>2</th>\n",
              "      <td>Ahmedabad</td>\n",
              "      <td>2015-01-03</td>\n",
              "      <td>NaN</td>\n",
              "      <td>NaN</td>\n",
              "      <td>17.40</td>\n",
              "      <td>19.30</td>\n",
              "      <td>29.70</td>\n",
              "      <td>NaN</td>\n",
              "      <td>17.40</td>\n",
              "      <td>29.07</td>\n",
              "      <td>30.70</td>\n",
              "      <td>6.80</td>\n",
              "      <td>16.40</td>\n",
              "      <td>2.25</td>\n",
              "      <td>NaN</td>\n",
              "      <td>NaN</td>\n",
              "    </tr>\n",
              "    <tr>\n",
              "      <th>3</th>\n",
              "      <td>Ahmedabad</td>\n",
              "      <td>2015-01-04</td>\n",
              "      <td>NaN</td>\n",
              "      <td>NaN</td>\n",
              "      <td>1.70</td>\n",
              "      <td>18.48</td>\n",
              "      <td>17.97</td>\n",
              "      <td>NaN</td>\n",
              "      <td>1.70</td>\n",
              "      <td>18.59</td>\n",
              "      <td>36.08</td>\n",
              "      <td>4.43</td>\n",
              "      <td>10.14</td>\n",
              "      <td>1.00</td>\n",
              "      <td>NaN</td>\n",
              "      <td>NaN</td>\n",
              "    </tr>\n",
              "    <tr>\n",
              "      <th>4</th>\n",
              "      <td>Ahmedabad</td>\n",
              "      <td>2015-01-05</td>\n",
              "      <td>NaN</td>\n",
              "      <td>NaN</td>\n",
              "      <td>22.10</td>\n",
              "      <td>21.42</td>\n",
              "      <td>37.76</td>\n",
              "      <td>NaN</td>\n",
              "      <td>22.10</td>\n",
              "      <td>39.33</td>\n",
              "      <td>39.31</td>\n",
              "      <td>7.01</td>\n",
              "      <td>18.89</td>\n",
              "      <td>2.78</td>\n",
              "      <td>NaN</td>\n",
              "      <td>NaN</td>\n",
              "    </tr>\n",
              "  </tbody>\n",
              "</table>\n",
              "</div>\n",
              "    <div class=\"colab-df-buttons\">\n",
              "\n",
              "  <div class=\"colab-df-container\">\n",
              "    <button class=\"colab-df-convert\" onclick=\"convertToInteractive('df-cb49188f-7848-49d5-98a9-505ff46ff1d0')\"\n",
              "            title=\"Convert this dataframe to an interactive table.\"\n",
              "            style=\"display:none;\">\n",
              "\n",
              "  <svg xmlns=\"http://www.w3.org/2000/svg\" height=\"24px\" viewBox=\"0 -960 960 960\">\n",
              "    <path d=\"M120-120v-720h720v720H120Zm60-500h600v-160H180v160Zm220 220h160v-160H400v160Zm0 220h160v-160H400v160ZM180-400h160v-160H180v160Zm440 0h160v-160H620v160ZM180-180h160v-160H180v160Zm440 0h160v-160H620v160Z\"/>\n",
              "  </svg>\n",
              "    </button>\n",
              "\n",
              "  <style>\n",
              "    .colab-df-container {\n",
              "      display:flex;\n",
              "      gap: 12px;\n",
              "    }\n",
              "\n",
              "    .colab-df-convert {\n",
              "      background-color: #E8F0FE;\n",
              "      border: none;\n",
              "      border-radius: 50%;\n",
              "      cursor: pointer;\n",
              "      display: none;\n",
              "      fill: #1967D2;\n",
              "      height: 32px;\n",
              "      padding: 0 0 0 0;\n",
              "      width: 32px;\n",
              "    }\n",
              "\n",
              "    .colab-df-convert:hover {\n",
              "      background-color: #E2EBFA;\n",
              "      box-shadow: 0px 1px 2px rgba(60, 64, 67, 0.3), 0px 1px 3px 1px rgba(60, 64, 67, 0.15);\n",
              "      fill: #174EA6;\n",
              "    }\n",
              "\n",
              "    .colab-df-buttons div {\n",
              "      margin-bottom: 4px;\n",
              "    }\n",
              "\n",
              "    [theme=dark] .colab-df-convert {\n",
              "      background-color: #3B4455;\n",
              "      fill: #D2E3FC;\n",
              "    }\n",
              "\n",
              "    [theme=dark] .colab-df-convert:hover {\n",
              "      background-color: #434B5C;\n",
              "      box-shadow: 0px 1px 3px 1px rgba(0, 0, 0, 0.15);\n",
              "      filter: drop-shadow(0px 1px 2px rgba(0, 0, 0, 0.3));\n",
              "      fill: #FFFFFF;\n",
              "    }\n",
              "  </style>\n",
              "\n",
              "    <script>\n",
              "      const buttonEl =\n",
              "        document.querySelector('#df-cb49188f-7848-49d5-98a9-505ff46ff1d0 button.colab-df-convert');\n",
              "      buttonEl.style.display =\n",
              "        google.colab.kernel.accessAllowed ? 'block' : 'none';\n",
              "\n",
              "      async function convertToInteractive(key) {\n",
              "        const element = document.querySelector('#df-cb49188f-7848-49d5-98a9-505ff46ff1d0');\n",
              "        const dataTable =\n",
              "          await google.colab.kernel.invokeFunction('convertToInteractive',\n",
              "                                                    [key], {});\n",
              "        if (!dataTable) return;\n",
              "\n",
              "        const docLinkHtml = 'Like what you see? Visit the ' +\n",
              "          '<a target=\"_blank\" href=https://colab.research.google.com/notebooks/data_table.ipynb>data table notebook</a>'\n",
              "          + ' to learn more about interactive tables.';\n",
              "        element.innerHTML = '';\n",
              "        dataTable['output_type'] = 'display_data';\n",
              "        await google.colab.output.renderOutput(dataTable, element);\n",
              "        const docLink = document.createElement('div');\n",
              "        docLink.innerHTML = docLinkHtml;\n",
              "        element.appendChild(docLink);\n",
              "      }\n",
              "    </script>\n",
              "  </div>\n",
              "\n",
              "\n",
              "<div id=\"df-00a82553-ef60-4116-900a-7ae4021c7984\">\n",
              "  <button class=\"colab-df-quickchart\" onclick=\"quickchart('df-00a82553-ef60-4116-900a-7ae4021c7984')\"\n",
              "            title=\"Suggest charts\"\n",
              "            style=\"display:none;\">\n",
              "\n",
              "<svg xmlns=\"http://www.w3.org/2000/svg\" height=\"24px\"viewBox=\"0 0 24 24\"\n",
              "     width=\"24px\">\n",
              "    <g>\n",
              "        <path d=\"M19 3H5c-1.1 0-2 .9-2 2v14c0 1.1.9 2 2 2h14c1.1 0 2-.9 2-2V5c0-1.1-.9-2-2-2zM9 17H7v-7h2v7zm4 0h-2V7h2v10zm4 0h-2v-4h2v4z\"/>\n",
              "    </g>\n",
              "</svg>\n",
              "  </button>\n",
              "\n",
              "<style>\n",
              "  .colab-df-quickchart {\n",
              "      --bg-color: #E8F0FE;\n",
              "      --fill-color: #1967D2;\n",
              "      --hover-bg-color: #E2EBFA;\n",
              "      --hover-fill-color: #174EA6;\n",
              "      --disabled-fill-color: #AAA;\n",
              "      --disabled-bg-color: #DDD;\n",
              "  }\n",
              "\n",
              "  [theme=dark] .colab-df-quickchart {\n",
              "      --bg-color: #3B4455;\n",
              "      --fill-color: #D2E3FC;\n",
              "      --hover-bg-color: #434B5C;\n",
              "      --hover-fill-color: #FFFFFF;\n",
              "      --disabled-bg-color: #3B4455;\n",
              "      --disabled-fill-color: #666;\n",
              "  }\n",
              "\n",
              "  .colab-df-quickchart {\n",
              "    background-color: var(--bg-color);\n",
              "    border: none;\n",
              "    border-radius: 50%;\n",
              "    cursor: pointer;\n",
              "    display: none;\n",
              "    fill: var(--fill-color);\n",
              "    height: 32px;\n",
              "    padding: 0;\n",
              "    width: 32px;\n",
              "  }\n",
              "\n",
              "  .colab-df-quickchart:hover {\n",
              "    background-color: var(--hover-bg-color);\n",
              "    box-shadow: 0 1px 2px rgba(60, 64, 67, 0.3), 0 1px 3px 1px rgba(60, 64, 67, 0.15);\n",
              "    fill: var(--button-hover-fill-color);\n",
              "  }\n",
              "\n",
              "  .colab-df-quickchart-complete:disabled,\n",
              "  .colab-df-quickchart-complete:disabled:hover {\n",
              "    background-color: var(--disabled-bg-color);\n",
              "    fill: var(--disabled-fill-color);\n",
              "    box-shadow: none;\n",
              "  }\n",
              "\n",
              "  .colab-df-spinner {\n",
              "    border: 2px solid var(--fill-color);\n",
              "    border-color: transparent;\n",
              "    border-bottom-color: var(--fill-color);\n",
              "    animation:\n",
              "      spin 1s steps(1) infinite;\n",
              "  }\n",
              "\n",
              "  @keyframes spin {\n",
              "    0% {\n",
              "      border-color: transparent;\n",
              "      border-bottom-color: var(--fill-color);\n",
              "      border-left-color: var(--fill-color);\n",
              "    }\n",
              "    20% {\n",
              "      border-color: transparent;\n",
              "      border-left-color: var(--fill-color);\n",
              "      border-top-color: var(--fill-color);\n",
              "    }\n",
              "    30% {\n",
              "      border-color: transparent;\n",
              "      border-left-color: var(--fill-color);\n",
              "      border-top-color: var(--fill-color);\n",
              "      border-right-color: var(--fill-color);\n",
              "    }\n",
              "    40% {\n",
              "      border-color: transparent;\n",
              "      border-right-color: var(--fill-color);\n",
              "      border-top-color: var(--fill-color);\n",
              "    }\n",
              "    60% {\n",
              "      border-color: transparent;\n",
              "      border-right-color: var(--fill-color);\n",
              "    }\n",
              "    80% {\n",
              "      border-color: transparent;\n",
              "      border-right-color: var(--fill-color);\n",
              "      border-bottom-color: var(--fill-color);\n",
              "    }\n",
              "    90% {\n",
              "      border-color: transparent;\n",
              "      border-bottom-color: var(--fill-color);\n",
              "    }\n",
              "  }\n",
              "</style>\n",
              "\n",
              "  <script>\n",
              "    async function quickchart(key) {\n",
              "      const quickchartButtonEl =\n",
              "        document.querySelector('#' + key + ' button');\n",
              "      quickchartButtonEl.disabled = true;  // To prevent multiple clicks.\n",
              "      quickchartButtonEl.classList.add('colab-df-spinner');\n",
              "      try {\n",
              "        const charts = await google.colab.kernel.invokeFunction(\n",
              "            'suggestCharts', [key], {});\n",
              "      } catch (error) {\n",
              "        console.error('Error during call to suggestCharts:', error);\n",
              "      }\n",
              "      quickchartButtonEl.classList.remove('colab-df-spinner');\n",
              "      quickchartButtonEl.classList.add('colab-df-quickchart-complete');\n",
              "    }\n",
              "    (() => {\n",
              "      let quickchartButtonEl =\n",
              "        document.querySelector('#df-00a82553-ef60-4116-900a-7ae4021c7984 button');\n",
              "      quickchartButtonEl.style.display =\n",
              "        google.colab.kernel.accessAllowed ? 'block' : 'none';\n",
              "    })();\n",
              "  </script>\n",
              "</div>\n",
              "\n",
              "    </div>\n",
              "  </div>\n"
            ],
            "application/vnd.google.colaboratory.intrinsic+json": {
              "type": "dataframe",
              "variable_name": "city_day",
              "repr_error": "'str' object has no attribute 'empty'"
            }
          },
          "metadata": {},
          "execution_count": 7
        }
      ],
      "source": [
        "city_day.head(5)"
      ]
    },
    {
      "cell_type": "code",
      "execution_count": 8,
      "metadata": {
        "colab": {
          "base_uri": "https://localhost:8080/"
        },
        "id": "vyKXRLzdByba",
        "outputId": "87239812-ceff-42e1-ef1e-2eb0c0e13ba4"
      },
      "outputs": [
        {
          "output_type": "execute_result",
          "data": {
            "text/plain": [
              "(29531, 16)"
            ]
          },
          "metadata": {},
          "execution_count": 8
        }
      ],
      "source": [
        "city_day.shape"
      ]
    },
    {
      "cell_type": "code",
      "execution_count": 9,
      "metadata": {
        "colab": {
          "base_uri": "https://localhost:8080/",
          "height": 320
        },
        "id": "-Yx1vTYwB4OA",
        "outputId": "031ef3f6-b975-4ef3-9d91-e7eb0411afc9"
      },
      "outputs": [
        {
          "output_type": "execute_result",
          "data": {
            "text/plain": [
              "              PM2.5          PM10            NO           NO2           NOx  \\\n",
              "count  24933.000000  18391.000000  25949.000000  25946.000000  25346.000000   \n",
              "mean      67.450578    118.127103     17.574730     28.560659     32.309123   \n",
              "std       64.661449     90.605110     22.785846     24.474746     31.646011   \n",
              "min        0.040000      0.010000      0.020000      0.010000      0.000000   \n",
              "25%       28.820000     56.255000      5.630000     11.750000     12.820000   \n",
              "50%       48.570000     95.680000      9.890000     21.690000     23.520000   \n",
              "75%       80.590000    149.745000     19.950000     37.620000     40.127500   \n",
              "max      949.990000   1000.000000    390.680000    362.210000    467.630000   \n",
              "\n",
              "                NH3            CO           SO2            O3       Benzene  \\\n",
              "count  19203.000000  27472.000000  25677.000000  25509.000000  23908.000000   \n",
              "mean      23.483476      2.248598     14.531977     34.491430      3.280840   \n",
              "std       25.684275      6.962884     18.133775     21.694928     15.811136   \n",
              "min        0.010000      0.000000      0.010000      0.010000      0.000000   \n",
              "25%        8.580000      0.510000      5.670000     18.860000      0.120000   \n",
              "50%       15.850000      0.890000      9.160000     30.840000      1.070000   \n",
              "75%       30.020000      1.450000     15.220000     45.570000      3.080000   \n",
              "max      352.890000    175.810000    193.860000    257.730000    455.030000   \n",
              "\n",
              "            Toluene        Xylene           AQI  \n",
              "count  21490.000000  11422.000000  24850.000000  \n",
              "mean       8.700972      3.070128    166.463581  \n",
              "std       19.969164      6.323247    140.696585  \n",
              "min        0.000000      0.000000     13.000000  \n",
              "25%        0.600000      0.140000     81.000000  \n",
              "50%        2.970000      0.980000    118.000000  \n",
              "75%        9.150000      3.350000    208.000000  \n",
              "max      454.850000    170.370000   2049.000000  "
            ],
            "text/html": [
              "\n",
              "  <div id=\"df-1b6ac79c-01db-49fa-b0c2-74af3056d6a0\" class=\"colab-df-container\">\n",
              "    <div>\n",
              "<style scoped>\n",
              "    .dataframe tbody tr th:only-of-type {\n",
              "        vertical-align: middle;\n",
              "    }\n",
              "\n",
              "    .dataframe tbody tr th {\n",
              "        vertical-align: top;\n",
              "    }\n",
              "\n",
              "    .dataframe thead th {\n",
              "        text-align: right;\n",
              "    }\n",
              "</style>\n",
              "<table border=\"1\" class=\"dataframe\">\n",
              "  <thead>\n",
              "    <tr style=\"text-align: right;\">\n",
              "      <th></th>\n",
              "      <th>PM2.5</th>\n",
              "      <th>PM10</th>\n",
              "      <th>NO</th>\n",
              "      <th>NO2</th>\n",
              "      <th>NOx</th>\n",
              "      <th>NH3</th>\n",
              "      <th>CO</th>\n",
              "      <th>SO2</th>\n",
              "      <th>O3</th>\n",
              "      <th>Benzene</th>\n",
              "      <th>Toluene</th>\n",
              "      <th>Xylene</th>\n",
              "      <th>AQI</th>\n",
              "    </tr>\n",
              "  </thead>\n",
              "  <tbody>\n",
              "    <tr>\n",
              "      <th>count</th>\n",
              "      <td>24933.000000</td>\n",
              "      <td>18391.000000</td>\n",
              "      <td>25949.000000</td>\n",
              "      <td>25946.000000</td>\n",
              "      <td>25346.000000</td>\n",
              "      <td>19203.000000</td>\n",
              "      <td>27472.000000</td>\n",
              "      <td>25677.000000</td>\n",
              "      <td>25509.000000</td>\n",
              "      <td>23908.000000</td>\n",
              "      <td>21490.000000</td>\n",
              "      <td>11422.000000</td>\n",
              "      <td>24850.000000</td>\n",
              "    </tr>\n",
              "    <tr>\n",
              "      <th>mean</th>\n",
              "      <td>67.450578</td>\n",
              "      <td>118.127103</td>\n",
              "      <td>17.574730</td>\n",
              "      <td>28.560659</td>\n",
              "      <td>32.309123</td>\n",
              "      <td>23.483476</td>\n",
              "      <td>2.248598</td>\n",
              "      <td>14.531977</td>\n",
              "      <td>34.491430</td>\n",
              "      <td>3.280840</td>\n",
              "      <td>8.700972</td>\n",
              "      <td>3.070128</td>\n",
              "      <td>166.463581</td>\n",
              "    </tr>\n",
              "    <tr>\n",
              "      <th>std</th>\n",
              "      <td>64.661449</td>\n",
              "      <td>90.605110</td>\n",
              "      <td>22.785846</td>\n",
              "      <td>24.474746</td>\n",
              "      <td>31.646011</td>\n",
              "      <td>25.684275</td>\n",
              "      <td>6.962884</td>\n",
              "      <td>18.133775</td>\n",
              "      <td>21.694928</td>\n",
              "      <td>15.811136</td>\n",
              "      <td>19.969164</td>\n",
              "      <td>6.323247</td>\n",
              "      <td>140.696585</td>\n",
              "    </tr>\n",
              "    <tr>\n",
              "      <th>min</th>\n",
              "      <td>0.040000</td>\n",
              "      <td>0.010000</td>\n",
              "      <td>0.020000</td>\n",
              "      <td>0.010000</td>\n",
              "      <td>0.000000</td>\n",
              "      <td>0.010000</td>\n",
              "      <td>0.000000</td>\n",
              "      <td>0.010000</td>\n",
              "      <td>0.010000</td>\n",
              "      <td>0.000000</td>\n",
              "      <td>0.000000</td>\n",
              "      <td>0.000000</td>\n",
              "      <td>13.000000</td>\n",
              "    </tr>\n",
              "    <tr>\n",
              "      <th>25%</th>\n",
              "      <td>28.820000</td>\n",
              "      <td>56.255000</td>\n",
              "      <td>5.630000</td>\n",
              "      <td>11.750000</td>\n",
              "      <td>12.820000</td>\n",
              "      <td>8.580000</td>\n",
              "      <td>0.510000</td>\n",
              "      <td>5.670000</td>\n",
              "      <td>18.860000</td>\n",
              "      <td>0.120000</td>\n",
              "      <td>0.600000</td>\n",
              "      <td>0.140000</td>\n",
              "      <td>81.000000</td>\n",
              "    </tr>\n",
              "    <tr>\n",
              "      <th>50%</th>\n",
              "      <td>48.570000</td>\n",
              "      <td>95.680000</td>\n",
              "      <td>9.890000</td>\n",
              "      <td>21.690000</td>\n",
              "      <td>23.520000</td>\n",
              "      <td>15.850000</td>\n",
              "      <td>0.890000</td>\n",
              "      <td>9.160000</td>\n",
              "      <td>30.840000</td>\n",
              "      <td>1.070000</td>\n",
              "      <td>2.970000</td>\n",
              "      <td>0.980000</td>\n",
              "      <td>118.000000</td>\n",
              "    </tr>\n",
              "    <tr>\n",
              "      <th>75%</th>\n",
              "      <td>80.590000</td>\n",
              "      <td>149.745000</td>\n",
              "      <td>19.950000</td>\n",
              "      <td>37.620000</td>\n",
              "      <td>40.127500</td>\n",
              "      <td>30.020000</td>\n",
              "      <td>1.450000</td>\n",
              "      <td>15.220000</td>\n",
              "      <td>45.570000</td>\n",
              "      <td>3.080000</td>\n",
              "      <td>9.150000</td>\n",
              "      <td>3.350000</td>\n",
              "      <td>208.000000</td>\n",
              "    </tr>\n",
              "    <tr>\n",
              "      <th>max</th>\n",
              "      <td>949.990000</td>\n",
              "      <td>1000.000000</td>\n",
              "      <td>390.680000</td>\n",
              "      <td>362.210000</td>\n",
              "      <td>467.630000</td>\n",
              "      <td>352.890000</td>\n",
              "      <td>175.810000</td>\n",
              "      <td>193.860000</td>\n",
              "      <td>257.730000</td>\n",
              "      <td>455.030000</td>\n",
              "      <td>454.850000</td>\n",
              "      <td>170.370000</td>\n",
              "      <td>2049.000000</td>\n",
              "    </tr>\n",
              "  </tbody>\n",
              "</table>\n",
              "</div>\n",
              "    <div class=\"colab-df-buttons\">\n",
              "\n",
              "  <div class=\"colab-df-container\">\n",
              "    <button class=\"colab-df-convert\" onclick=\"convertToInteractive('df-1b6ac79c-01db-49fa-b0c2-74af3056d6a0')\"\n",
              "            title=\"Convert this dataframe to an interactive table.\"\n",
              "            style=\"display:none;\">\n",
              "\n",
              "  <svg xmlns=\"http://www.w3.org/2000/svg\" height=\"24px\" viewBox=\"0 -960 960 960\">\n",
              "    <path d=\"M120-120v-720h720v720H120Zm60-500h600v-160H180v160Zm220 220h160v-160H400v160Zm0 220h160v-160H400v160ZM180-400h160v-160H180v160Zm440 0h160v-160H620v160ZM180-180h160v-160H180v160Zm440 0h160v-160H620v160Z\"/>\n",
              "  </svg>\n",
              "    </button>\n",
              "\n",
              "  <style>\n",
              "    .colab-df-container {\n",
              "      display:flex;\n",
              "      gap: 12px;\n",
              "    }\n",
              "\n",
              "    .colab-df-convert {\n",
              "      background-color: #E8F0FE;\n",
              "      border: none;\n",
              "      border-radius: 50%;\n",
              "      cursor: pointer;\n",
              "      display: none;\n",
              "      fill: #1967D2;\n",
              "      height: 32px;\n",
              "      padding: 0 0 0 0;\n",
              "      width: 32px;\n",
              "    }\n",
              "\n",
              "    .colab-df-convert:hover {\n",
              "      background-color: #E2EBFA;\n",
              "      box-shadow: 0px 1px 2px rgba(60, 64, 67, 0.3), 0px 1px 3px 1px rgba(60, 64, 67, 0.15);\n",
              "      fill: #174EA6;\n",
              "    }\n",
              "\n",
              "    .colab-df-buttons div {\n",
              "      margin-bottom: 4px;\n",
              "    }\n",
              "\n",
              "    [theme=dark] .colab-df-convert {\n",
              "      background-color: #3B4455;\n",
              "      fill: #D2E3FC;\n",
              "    }\n",
              "\n",
              "    [theme=dark] .colab-df-convert:hover {\n",
              "      background-color: #434B5C;\n",
              "      box-shadow: 0px 1px 3px 1px rgba(0, 0, 0, 0.15);\n",
              "      filter: drop-shadow(0px 1px 2px rgba(0, 0, 0, 0.3));\n",
              "      fill: #FFFFFF;\n",
              "    }\n",
              "  </style>\n",
              "\n",
              "    <script>\n",
              "      const buttonEl =\n",
              "        document.querySelector('#df-1b6ac79c-01db-49fa-b0c2-74af3056d6a0 button.colab-df-convert');\n",
              "      buttonEl.style.display =\n",
              "        google.colab.kernel.accessAllowed ? 'block' : 'none';\n",
              "\n",
              "      async function convertToInteractive(key) {\n",
              "        const element = document.querySelector('#df-1b6ac79c-01db-49fa-b0c2-74af3056d6a0');\n",
              "        const dataTable =\n",
              "          await google.colab.kernel.invokeFunction('convertToInteractive',\n",
              "                                                    [key], {});\n",
              "        if (!dataTable) return;\n",
              "\n",
              "        const docLinkHtml = 'Like what you see? Visit the ' +\n",
              "          '<a target=\"_blank\" href=https://colab.research.google.com/notebooks/data_table.ipynb>data table notebook</a>'\n",
              "          + ' to learn more about interactive tables.';\n",
              "        element.innerHTML = '';\n",
              "        dataTable['output_type'] = 'display_data';\n",
              "        await google.colab.output.renderOutput(dataTable, element);\n",
              "        const docLink = document.createElement('div');\n",
              "        docLink.innerHTML = docLinkHtml;\n",
              "        element.appendChild(docLink);\n",
              "      }\n",
              "    </script>\n",
              "  </div>\n",
              "\n",
              "\n",
              "<div id=\"df-835a100b-b718-4816-a6a8-42b2e37138e6\">\n",
              "  <button class=\"colab-df-quickchart\" onclick=\"quickchart('df-835a100b-b718-4816-a6a8-42b2e37138e6')\"\n",
              "            title=\"Suggest charts\"\n",
              "            style=\"display:none;\">\n",
              "\n",
              "<svg xmlns=\"http://www.w3.org/2000/svg\" height=\"24px\"viewBox=\"0 0 24 24\"\n",
              "     width=\"24px\">\n",
              "    <g>\n",
              "        <path d=\"M19 3H5c-1.1 0-2 .9-2 2v14c0 1.1.9 2 2 2h14c1.1 0 2-.9 2-2V5c0-1.1-.9-2-2-2zM9 17H7v-7h2v7zm4 0h-2V7h2v10zm4 0h-2v-4h2v4z\"/>\n",
              "    </g>\n",
              "</svg>\n",
              "  </button>\n",
              "\n",
              "<style>\n",
              "  .colab-df-quickchart {\n",
              "      --bg-color: #E8F0FE;\n",
              "      --fill-color: #1967D2;\n",
              "      --hover-bg-color: #E2EBFA;\n",
              "      --hover-fill-color: #174EA6;\n",
              "      --disabled-fill-color: #AAA;\n",
              "      --disabled-bg-color: #DDD;\n",
              "  }\n",
              "\n",
              "  [theme=dark] .colab-df-quickchart {\n",
              "      --bg-color: #3B4455;\n",
              "      --fill-color: #D2E3FC;\n",
              "      --hover-bg-color: #434B5C;\n",
              "      --hover-fill-color: #FFFFFF;\n",
              "      --disabled-bg-color: #3B4455;\n",
              "      --disabled-fill-color: #666;\n",
              "  }\n",
              "\n",
              "  .colab-df-quickchart {\n",
              "    background-color: var(--bg-color);\n",
              "    border: none;\n",
              "    border-radius: 50%;\n",
              "    cursor: pointer;\n",
              "    display: none;\n",
              "    fill: var(--fill-color);\n",
              "    height: 32px;\n",
              "    padding: 0;\n",
              "    width: 32px;\n",
              "  }\n",
              "\n",
              "  .colab-df-quickchart:hover {\n",
              "    background-color: var(--hover-bg-color);\n",
              "    box-shadow: 0 1px 2px rgba(60, 64, 67, 0.3), 0 1px 3px 1px rgba(60, 64, 67, 0.15);\n",
              "    fill: var(--button-hover-fill-color);\n",
              "  }\n",
              "\n",
              "  .colab-df-quickchart-complete:disabled,\n",
              "  .colab-df-quickchart-complete:disabled:hover {\n",
              "    background-color: var(--disabled-bg-color);\n",
              "    fill: var(--disabled-fill-color);\n",
              "    box-shadow: none;\n",
              "  }\n",
              "\n",
              "  .colab-df-spinner {\n",
              "    border: 2px solid var(--fill-color);\n",
              "    border-color: transparent;\n",
              "    border-bottom-color: var(--fill-color);\n",
              "    animation:\n",
              "      spin 1s steps(1) infinite;\n",
              "  }\n",
              "\n",
              "  @keyframes spin {\n",
              "    0% {\n",
              "      border-color: transparent;\n",
              "      border-bottom-color: var(--fill-color);\n",
              "      border-left-color: var(--fill-color);\n",
              "    }\n",
              "    20% {\n",
              "      border-color: transparent;\n",
              "      border-left-color: var(--fill-color);\n",
              "      border-top-color: var(--fill-color);\n",
              "    }\n",
              "    30% {\n",
              "      border-color: transparent;\n",
              "      border-left-color: var(--fill-color);\n",
              "      border-top-color: var(--fill-color);\n",
              "      border-right-color: var(--fill-color);\n",
              "    }\n",
              "    40% {\n",
              "      border-color: transparent;\n",
              "      border-right-color: var(--fill-color);\n",
              "      border-top-color: var(--fill-color);\n",
              "    }\n",
              "    60% {\n",
              "      border-color: transparent;\n",
              "      border-right-color: var(--fill-color);\n",
              "    }\n",
              "    80% {\n",
              "      border-color: transparent;\n",
              "      border-right-color: var(--fill-color);\n",
              "      border-bottom-color: var(--fill-color);\n",
              "    }\n",
              "    90% {\n",
              "      border-color: transparent;\n",
              "      border-bottom-color: var(--fill-color);\n",
              "    }\n",
              "  }\n",
              "</style>\n",
              "\n",
              "  <script>\n",
              "    async function quickchart(key) {\n",
              "      const quickchartButtonEl =\n",
              "        document.querySelector('#' + key + ' button');\n",
              "      quickchartButtonEl.disabled = true;  // To prevent multiple clicks.\n",
              "      quickchartButtonEl.classList.add('colab-df-spinner');\n",
              "      try {\n",
              "        const charts = await google.colab.kernel.invokeFunction(\n",
              "            'suggestCharts', [key], {});\n",
              "      } catch (error) {\n",
              "        console.error('Error during call to suggestCharts:', error);\n",
              "      }\n",
              "      quickchartButtonEl.classList.remove('colab-df-spinner');\n",
              "      quickchartButtonEl.classList.add('colab-df-quickchart-complete');\n",
              "    }\n",
              "    (() => {\n",
              "      let quickchartButtonEl =\n",
              "        document.querySelector('#df-835a100b-b718-4816-a6a8-42b2e37138e6 button');\n",
              "      quickchartButtonEl.style.display =\n",
              "        google.colab.kernel.accessAllowed ? 'block' : 'none';\n",
              "    })();\n",
              "  </script>\n",
              "</div>\n",
              "\n",
              "    </div>\n",
              "  </div>\n"
            ],
            "application/vnd.google.colaboratory.intrinsic+json": {
              "type": "dataframe",
              "summary": "{\n  \"name\": \"city_day\",\n  \"rows\": 8,\n  \"fields\": [\n    {\n      \"column\": \"PM2.5\",\n      \"properties\": {\n        \"dtype\": \"number\",\n        \"std\": 8758.231601413001,\n        \"min\": 0.04,\n        \"max\": 24933.0,\n        \"num_unique_values\": 8,\n        \"samples\": [\n          67.45057794890306,\n          48.57,\n          24933.0\n        ],\n        \"semantic_type\": \"\",\n        \"description\": \"\"\n      }\n    },\n    {\n      \"column\": \"PM10\",\n      \"properties\": {\n        \"dtype\": \"number\",\n        \"std\": 6434.032965301901,\n        \"min\": 0.01,\n        \"max\": 18391.0,\n        \"num_unique_values\": 8,\n        \"samples\": [\n          118.12710293078135,\n          95.68,\n          18391.0\n        ],\n        \"semantic_type\": \"\",\n        \"description\": \"\"\n      }\n    },\n    {\n      \"column\": \"NO\",\n      \"properties\": {\n        \"dtype\": \"number\",\n        \"std\": 9151.752802362065,\n        \"min\": 0.02,\n        \"max\": 25949.0,\n        \"num_unique_values\": 8,\n        \"samples\": [\n          17.574729662029362,\n          9.89,\n          25949.0\n        ],\n        \"semantic_type\": \"\",\n        \"description\": \"\"\n      }\n    },\n    {\n      \"column\": \"NO2\",\n      \"properties\": {\n        \"dtype\": \"number\",\n        \"std\": 9149.520974064313,\n        \"min\": 0.01,\n        \"max\": 25946.0,\n        \"num_unique_values\": 8,\n        \"samples\": [\n          28.560659061126955,\n          21.69,\n          25946.0\n        ],\n        \"semantic_type\": \"\",\n        \"description\": \"\"\n      }\n    },\n    {\n      \"column\": \"NOx\",\n      \"properties\": {\n        \"dtype\": \"number\",\n        \"std\": 8931.814412597654,\n        \"min\": 0.0,\n        \"max\": 25346.0,\n        \"num_unique_values\": 8,\n        \"samples\": [\n          32.30912333307031,\n          23.52,\n          25346.0\n        ],\n        \"semantic_type\": \"\",\n        \"description\": \"\"\n      }\n    },\n    {\n      \"column\": \"NH3\",\n      \"properties\": {\n        \"dtype\": \"number\",\n        \"std\": 6767.254114714225,\n        \"min\": 0.01,\n        \"max\": 19203.0,\n        \"num_unique_values\": 8,\n        \"samples\": [\n          23.48347601937197,\n          15.85,\n          19203.0\n        ],\n        \"semantic_type\": \"\",\n        \"description\": \"\"\n      }\n    },\n    {\n      \"column\": \"CO\",\n      \"properties\": {\n        \"dtype\": \"number\",\n        \"std\": 9703.520631675414,\n        \"min\": 0.0,\n        \"max\": 27472.0,\n        \"num_unique_values\": 8,\n        \"samples\": [\n          2.2485982090856145,\n          0.89,\n          27472.0\n        ],\n        \"semantic_type\": \"\",\n        \"description\": \"\"\n      }\n    },\n    {\n      \"column\": \"SO2\",\n      \"properties\": {\n        \"dtype\": \"number\",\n        \"std\": 9065.45987856854,\n        \"min\": 0.01,\n        \"max\": 25677.0,\n        \"num_unique_values\": 8,\n        \"samples\": [\n          14.53197725590996,\n          9.16,\n          25677.0\n        ],\n        \"semantic_type\": \"\",\n        \"description\": \"\"\n      }\n    },\n    {\n      \"column\": \"O3\",\n      \"properties\": {\n        \"dtype\": \"number\",\n        \"std\": 8998.503341437003,\n        \"min\": 0.01,\n        \"max\": 25509.0,\n        \"num_unique_values\": 8,\n        \"samples\": [\n          34.49143047551845,\n          30.84,\n          25509.0\n        ],\n        \"semantic_type\": \"\",\n        \"description\": \"\"\n      }\n    },\n    {\n      \"column\": \"Benzene\",\n      \"properties\": {\n        \"dtype\": \"number\",\n        \"std\": 8430.071796823879,\n        \"min\": 0.0,\n        \"max\": 23908.0,\n        \"num_unique_values\": 8,\n        \"samples\": [\n          3.280840304500585,\n          1.07,\n          23908.0\n        ],\n        \"semantic_type\": \"\",\n        \"description\": \"\"\n      }\n    },\n    {\n      \"column\": \"Toluene\",\n      \"properties\": {\n        \"dtype\": \"number\",\n        \"std\": 7574.423235817304,\n        \"min\": 0.0,\n        \"max\": 21490.0,\n        \"num_unique_values\": 8,\n        \"samples\": [\n          8.700972080037227,\n          2.97,\n          21490.0\n        ],\n        \"semantic_type\": \"\",\n        \"description\": \"\"\n      }\n    },\n    {\n      \"column\": \"Xylene\",\n      \"properties\": {\n        \"dtype\": \"number\",\n        \"std\": 4029.411334239831,\n        \"min\": 0.0,\n        \"max\": 11422.0,\n        \"num_unique_values\": 8,\n        \"samples\": [\n          3.0701278234985114,\n          0.98,\n          11422.0\n        ],\n        \"semantic_type\": \"\",\n        \"description\": \"\"\n      }\n    },\n    {\n      \"column\": \"AQI\",\n      \"properties\": {\n        \"dtype\": \"number\",\n        \"std\": 8672.054740530533,\n        \"min\": 13.0,\n        \"max\": 24850.0,\n        \"num_unique_values\": 8,\n        \"samples\": [\n          166.4635814889336,\n          118.0,\n          24850.0\n        ],\n        \"semantic_type\": \"\",\n        \"description\": \"\"\n      }\n    }\n  ]\n}"
            }
          },
          "metadata": {},
          "execution_count": 9
        }
      ],
      "source": [
        "city_day.describe()"
      ]
    },
    {
      "cell_type": "code",
      "execution_count": 10,
      "metadata": {
        "colab": {
          "base_uri": "https://localhost:8080/"
        },
        "id": "qsRAHT_DB9MF",
        "outputId": "133ebd1a-19c7-4001-e9a1-45e4fbdc224a"
      },
      "outputs": [
        {
          "output_type": "stream",
          "name": "stdout",
          "text": [
            "<class 'pandas.core.frame.DataFrame'>\n",
            "RangeIndex: 29531 entries, 0 to 29530\n",
            "Data columns (total 16 columns):\n",
            " #   Column      Non-Null Count  Dtype  \n",
            "---  ------      --------------  -----  \n",
            " 0   City        29531 non-null  object \n",
            " 1   Date        29531 non-null  object \n",
            " 2   PM2.5       24933 non-null  float64\n",
            " 3   PM10        18391 non-null  float64\n",
            " 4   NO          25949 non-null  float64\n",
            " 5   NO2         25946 non-null  float64\n",
            " 6   NOx         25346 non-null  float64\n",
            " 7   NH3         19203 non-null  float64\n",
            " 8   CO          27472 non-null  float64\n",
            " 9   SO2         25677 non-null  float64\n",
            " 10  O3          25509 non-null  float64\n",
            " 11  Benzene     23908 non-null  float64\n",
            " 12  Toluene     21490 non-null  float64\n",
            " 13  Xylene      11422 non-null  float64\n",
            " 14  AQI         24850 non-null  float64\n",
            " 15  AQI_Bucket  24850 non-null  object \n",
            "dtypes: float64(13), object(3)\n",
            "memory usage: 3.6+ MB\n"
          ]
        }
      ],
      "source": [
        "city_day.info()"
      ]
    },
    {
      "cell_type": "markdown",
      "metadata": {
        "id": "wfCZBPooCPDN"
      },
      "source": [
        "**Data Cleaning**\n"
      ]
    },
    {
      "cell_type": "code",
      "execution_count": 11,
      "metadata": {
        "colab": {
          "base_uri": "https://localhost:8080/"
        },
        "id": "Bos_ZbgtCmiI",
        "outputId": "fd6c2258-a75e-479d-8127-c2a45a847811"
      },
      "outputs": [
        {
          "output_type": "execute_result",
          "data": {
            "text/plain": [
              "City              0\n",
              "Date              0\n",
              "PM2.5          4598\n",
              "PM10          11140\n",
              "NO             3582\n",
              "NO2            3585\n",
              "NOx            4185\n",
              "NH3           10328\n",
              "CO             2059\n",
              "SO2            3854\n",
              "O3             4022\n",
              "Benzene        5623\n",
              "Toluene        8041\n",
              "Xylene        18109\n",
              "AQI            4681\n",
              "AQI_Bucket     4681\n",
              "dtype: int64"
            ]
          },
          "metadata": {},
          "execution_count": 11
        }
      ],
      "source": [
        "city_day.isnull().sum()\n"
      ]
    },
    {
      "cell_type": "code",
      "execution_count": 12,
      "metadata": {
        "id": "B_lsVBECQlPa"
      },
      "outputs": [],
      "source": [
        "city_day.drop(['Xylene','AQI_Bucket'],axis=1,inplace=True)"
      ]
    },
    {
      "cell_type": "code",
      "execution_count": 13,
      "metadata": {
        "colab": {
          "base_uri": "https://localhost:8080/"
        },
        "id": "MqFF6XsbMsJ9",
        "outputId": "342bbff7-df0c-44bd-ad41-c1a3c307a3c9"
      },
      "outputs": [
        {
          "output_type": "stream",
          "name": "stdout",
          "text": [
            "                City        Date  PM2.5   PM10    NO    NO2    NOx    NH3  \\\n",
            "2010          Aizawl  2020-03-12  31.21  38.66  7.20   1.27  10.65  25.63   \n",
            "2011          Aizawl  2020-03-13  38.39  46.68  7.19   0.91  10.37  29.16   \n",
            "2012          Aizawl  2020-03-14  43.23  50.83  7.14   1.07  10.48  28.95   \n",
            "2013          Aizawl  2020-03-15  33.82  41.03  7.09   0.36   9.73  28.41   \n",
            "2014          Aizawl  2020-03-16  27.14  35.04  5.63   2.32   8.09  23.98   \n",
            "...              ...         ...    ...    ...   ...    ...    ...    ...   \n",
            "29525  Visakhapatnam  2020-06-26   7.63  32.27  5.91  23.27  17.19  11.15   \n",
            "29526  Visakhapatnam  2020-06-27  15.02  50.94  7.68  25.06  19.54  12.47   \n",
            "29527  Visakhapatnam  2020-06-28  24.38  74.09  3.42  26.06  16.53  11.99   \n",
            "29528  Visakhapatnam  2020-06-29  22.91  65.73  3.45  29.53  18.33  10.71   \n",
            "29529  Visakhapatnam  2020-06-30  16.64  49.97  4.05  29.26  18.80  10.03   \n",
            "\n",
            "         CO    SO2     O3  Benzene  Toluene   AQI  \n",
            "2010   0.56   4.22   2.81     0.01     0.08  52.0  \n",
            "2011   0.57   4.46   0.18     0.00     0.00  60.0  \n",
            "2012   0.57   4.53   0.41     0.00     0.00  62.0  \n",
            "2013   0.48   4.63   0.30     0.00     0.00  70.0  \n",
            "2014   0.50   4.71  13.02     0.13     0.68  54.0  \n",
            "...     ...    ...    ...      ...      ...   ...  \n",
            "29525  0.46   6.87  19.90     1.45     5.37  47.0  \n",
            "29526  0.47   8.55  23.30     2.24    12.07  41.0  \n",
            "29527  0.52  12.72  30.14     0.74     2.21  70.0  \n",
            "29528  0.48   8.42  30.96     0.01     0.01  68.0  \n",
            "29529  0.52   9.84  28.30     0.00     0.00  54.0  \n",
            "\n",
            "[10654 rows x 14 columns]\n"
          ]
        }
      ],
      "source": [
        "city_day = city_day.dropna()\n",
        "print(city_day)"
      ]
    },
    {
      "cell_type": "code",
      "execution_count": 14,
      "metadata": {
        "colab": {
          "base_uri": "https://localhost:8080/"
        },
        "id": "bN6dkdYsZ7Na",
        "outputId": "4976a477-db5f-4bed-b55f-ad043c7fb4bd"
      },
      "outputs": [
        {
          "output_type": "execute_result",
          "data": {
            "text/plain": [
              "City       0\n",
              "Date       0\n",
              "PM2.5      0\n",
              "PM10       0\n",
              "NO         0\n",
              "NO2        0\n",
              "NOx        0\n",
              "NH3        0\n",
              "CO         0\n",
              "SO2        0\n",
              "O3         0\n",
              "Benzene    0\n",
              "Toluene    0\n",
              "AQI        0\n",
              "dtype: int64"
            ]
          },
          "metadata": {},
          "execution_count": 14
        }
      ],
      "source": [
        "city_day.isnull().sum()"
      ]
    },
    {
      "cell_type": "code",
      "execution_count": 15,
      "metadata": {
        "colab": {
          "base_uri": "https://localhost:8080/",
          "height": 206
        },
        "id": "dErPXLT8wWm_",
        "outputId": "f061a294-d5b9-4b58-ab5a-032fb67162f4"
      },
      "outputs": [
        {
          "output_type": "execute_result",
          "data": {
            "text/plain": [
              "        City        Date  PM2.5   PM10    NO   NO2    NOx    NH3    CO   SO2  \\\n",
              "2010  Aizawl  2020-03-12  31.21  38.66  7.20  1.27  10.65  25.63  0.56  4.22   \n",
              "2011  Aizawl  2020-03-13  38.39  46.68  7.19  0.91  10.37  29.16  0.57  4.46   \n",
              "2012  Aizawl  2020-03-14  43.23  50.83  7.14  1.07  10.48  28.95  0.57  4.53   \n",
              "2013  Aizawl  2020-03-15  33.82  41.03  7.09  0.36   9.73  28.41  0.48  4.63   \n",
              "2014  Aizawl  2020-03-16  27.14  35.04  5.63  2.32   8.09  23.98  0.50  4.71   \n",
              "\n",
              "         O3  Benzene  Toluene   AQI  \n",
              "2010   2.81     0.01     0.08  52.0  \n",
              "2011   0.18     0.00     0.00  60.0  \n",
              "2012   0.41     0.00     0.00  62.0  \n",
              "2013   0.30     0.00     0.00  70.0  \n",
              "2014  13.02     0.13     0.68  54.0  "
            ],
            "text/html": [
              "\n",
              "  <div id=\"df-dfe70954-dbd7-44ad-a03e-a12bbdb4f348\" class=\"colab-df-container\">\n",
              "    <div>\n",
              "<style scoped>\n",
              "    .dataframe tbody tr th:only-of-type {\n",
              "        vertical-align: middle;\n",
              "    }\n",
              "\n",
              "    .dataframe tbody tr th {\n",
              "        vertical-align: top;\n",
              "    }\n",
              "\n",
              "    .dataframe thead th {\n",
              "        text-align: right;\n",
              "    }\n",
              "</style>\n",
              "<table border=\"1\" class=\"dataframe\">\n",
              "  <thead>\n",
              "    <tr style=\"text-align: right;\">\n",
              "      <th></th>\n",
              "      <th>City</th>\n",
              "      <th>Date</th>\n",
              "      <th>PM2.5</th>\n",
              "      <th>PM10</th>\n",
              "      <th>NO</th>\n",
              "      <th>NO2</th>\n",
              "      <th>NOx</th>\n",
              "      <th>NH3</th>\n",
              "      <th>CO</th>\n",
              "      <th>SO2</th>\n",
              "      <th>O3</th>\n",
              "      <th>Benzene</th>\n",
              "      <th>Toluene</th>\n",
              "      <th>AQI</th>\n",
              "    </tr>\n",
              "  </thead>\n",
              "  <tbody>\n",
              "    <tr>\n",
              "      <th>2010</th>\n",
              "      <td>Aizawl</td>\n",
              "      <td>2020-03-12</td>\n",
              "      <td>31.21</td>\n",
              "      <td>38.66</td>\n",
              "      <td>7.20</td>\n",
              "      <td>1.27</td>\n",
              "      <td>10.65</td>\n",
              "      <td>25.63</td>\n",
              "      <td>0.56</td>\n",
              "      <td>4.22</td>\n",
              "      <td>2.81</td>\n",
              "      <td>0.01</td>\n",
              "      <td>0.08</td>\n",
              "      <td>52.0</td>\n",
              "    </tr>\n",
              "    <tr>\n",
              "      <th>2011</th>\n",
              "      <td>Aizawl</td>\n",
              "      <td>2020-03-13</td>\n",
              "      <td>38.39</td>\n",
              "      <td>46.68</td>\n",
              "      <td>7.19</td>\n",
              "      <td>0.91</td>\n",
              "      <td>10.37</td>\n",
              "      <td>29.16</td>\n",
              "      <td>0.57</td>\n",
              "      <td>4.46</td>\n",
              "      <td>0.18</td>\n",
              "      <td>0.00</td>\n",
              "      <td>0.00</td>\n",
              "      <td>60.0</td>\n",
              "    </tr>\n",
              "    <tr>\n",
              "      <th>2012</th>\n",
              "      <td>Aizawl</td>\n",
              "      <td>2020-03-14</td>\n",
              "      <td>43.23</td>\n",
              "      <td>50.83</td>\n",
              "      <td>7.14</td>\n",
              "      <td>1.07</td>\n",
              "      <td>10.48</td>\n",
              "      <td>28.95</td>\n",
              "      <td>0.57</td>\n",
              "      <td>4.53</td>\n",
              "      <td>0.41</td>\n",
              "      <td>0.00</td>\n",
              "      <td>0.00</td>\n",
              "      <td>62.0</td>\n",
              "    </tr>\n",
              "    <tr>\n",
              "      <th>2013</th>\n",
              "      <td>Aizawl</td>\n",
              "      <td>2020-03-15</td>\n",
              "      <td>33.82</td>\n",
              "      <td>41.03</td>\n",
              "      <td>7.09</td>\n",
              "      <td>0.36</td>\n",
              "      <td>9.73</td>\n",
              "      <td>28.41</td>\n",
              "      <td>0.48</td>\n",
              "      <td>4.63</td>\n",
              "      <td>0.30</td>\n",
              "      <td>0.00</td>\n",
              "      <td>0.00</td>\n",
              "      <td>70.0</td>\n",
              "    </tr>\n",
              "    <tr>\n",
              "      <th>2014</th>\n",
              "      <td>Aizawl</td>\n",
              "      <td>2020-03-16</td>\n",
              "      <td>27.14</td>\n",
              "      <td>35.04</td>\n",
              "      <td>5.63</td>\n",
              "      <td>2.32</td>\n",
              "      <td>8.09</td>\n",
              "      <td>23.98</td>\n",
              "      <td>0.50</td>\n",
              "      <td>4.71</td>\n",
              "      <td>13.02</td>\n",
              "      <td>0.13</td>\n",
              "      <td>0.68</td>\n",
              "      <td>54.0</td>\n",
              "    </tr>\n",
              "  </tbody>\n",
              "</table>\n",
              "</div>\n",
              "    <div class=\"colab-df-buttons\">\n",
              "\n",
              "  <div class=\"colab-df-container\">\n",
              "    <button class=\"colab-df-convert\" onclick=\"convertToInteractive('df-dfe70954-dbd7-44ad-a03e-a12bbdb4f348')\"\n",
              "            title=\"Convert this dataframe to an interactive table.\"\n",
              "            style=\"display:none;\">\n",
              "\n",
              "  <svg xmlns=\"http://www.w3.org/2000/svg\" height=\"24px\" viewBox=\"0 -960 960 960\">\n",
              "    <path d=\"M120-120v-720h720v720H120Zm60-500h600v-160H180v160Zm220 220h160v-160H400v160Zm0 220h160v-160H400v160ZM180-400h160v-160H180v160Zm440 0h160v-160H620v160ZM180-180h160v-160H180v160Zm440 0h160v-160H620v160Z\"/>\n",
              "  </svg>\n",
              "    </button>\n",
              "\n",
              "  <style>\n",
              "    .colab-df-container {\n",
              "      display:flex;\n",
              "      gap: 12px;\n",
              "    }\n",
              "\n",
              "    .colab-df-convert {\n",
              "      background-color: #E8F0FE;\n",
              "      border: none;\n",
              "      border-radius: 50%;\n",
              "      cursor: pointer;\n",
              "      display: none;\n",
              "      fill: #1967D2;\n",
              "      height: 32px;\n",
              "      padding: 0 0 0 0;\n",
              "      width: 32px;\n",
              "    }\n",
              "\n",
              "    .colab-df-convert:hover {\n",
              "      background-color: #E2EBFA;\n",
              "      box-shadow: 0px 1px 2px rgba(60, 64, 67, 0.3), 0px 1px 3px 1px rgba(60, 64, 67, 0.15);\n",
              "      fill: #174EA6;\n",
              "    }\n",
              "\n",
              "    .colab-df-buttons div {\n",
              "      margin-bottom: 4px;\n",
              "    }\n",
              "\n",
              "    [theme=dark] .colab-df-convert {\n",
              "      background-color: #3B4455;\n",
              "      fill: #D2E3FC;\n",
              "    }\n",
              "\n",
              "    [theme=dark] .colab-df-convert:hover {\n",
              "      background-color: #434B5C;\n",
              "      box-shadow: 0px 1px 3px 1px rgba(0, 0, 0, 0.15);\n",
              "      filter: drop-shadow(0px 1px 2px rgba(0, 0, 0, 0.3));\n",
              "      fill: #FFFFFF;\n",
              "    }\n",
              "  </style>\n",
              "\n",
              "    <script>\n",
              "      const buttonEl =\n",
              "        document.querySelector('#df-dfe70954-dbd7-44ad-a03e-a12bbdb4f348 button.colab-df-convert');\n",
              "      buttonEl.style.display =\n",
              "        google.colab.kernel.accessAllowed ? 'block' : 'none';\n",
              "\n",
              "      async function convertToInteractive(key) {\n",
              "        const element = document.querySelector('#df-dfe70954-dbd7-44ad-a03e-a12bbdb4f348');\n",
              "        const dataTable =\n",
              "          await google.colab.kernel.invokeFunction('convertToInteractive',\n",
              "                                                    [key], {});\n",
              "        if (!dataTable) return;\n",
              "\n",
              "        const docLinkHtml = 'Like what you see? Visit the ' +\n",
              "          '<a target=\"_blank\" href=https://colab.research.google.com/notebooks/data_table.ipynb>data table notebook</a>'\n",
              "          + ' to learn more about interactive tables.';\n",
              "        element.innerHTML = '';\n",
              "        dataTable['output_type'] = 'display_data';\n",
              "        await google.colab.output.renderOutput(dataTable, element);\n",
              "        const docLink = document.createElement('div');\n",
              "        docLink.innerHTML = docLinkHtml;\n",
              "        element.appendChild(docLink);\n",
              "      }\n",
              "    </script>\n",
              "  </div>\n",
              "\n",
              "\n",
              "<div id=\"df-c216a9f6-8371-45f1-a01b-45b8c43ab5d1\">\n",
              "  <button class=\"colab-df-quickchart\" onclick=\"quickchart('df-c216a9f6-8371-45f1-a01b-45b8c43ab5d1')\"\n",
              "            title=\"Suggest charts\"\n",
              "            style=\"display:none;\">\n",
              "\n",
              "<svg xmlns=\"http://www.w3.org/2000/svg\" height=\"24px\"viewBox=\"0 0 24 24\"\n",
              "     width=\"24px\">\n",
              "    <g>\n",
              "        <path d=\"M19 3H5c-1.1 0-2 .9-2 2v14c0 1.1.9 2 2 2h14c1.1 0 2-.9 2-2V5c0-1.1-.9-2-2-2zM9 17H7v-7h2v7zm4 0h-2V7h2v10zm4 0h-2v-4h2v4z\"/>\n",
              "    </g>\n",
              "</svg>\n",
              "  </button>\n",
              "\n",
              "<style>\n",
              "  .colab-df-quickchart {\n",
              "      --bg-color: #E8F0FE;\n",
              "      --fill-color: #1967D2;\n",
              "      --hover-bg-color: #E2EBFA;\n",
              "      --hover-fill-color: #174EA6;\n",
              "      --disabled-fill-color: #AAA;\n",
              "      --disabled-bg-color: #DDD;\n",
              "  }\n",
              "\n",
              "  [theme=dark] .colab-df-quickchart {\n",
              "      --bg-color: #3B4455;\n",
              "      --fill-color: #D2E3FC;\n",
              "      --hover-bg-color: #434B5C;\n",
              "      --hover-fill-color: #FFFFFF;\n",
              "      --disabled-bg-color: #3B4455;\n",
              "      --disabled-fill-color: #666;\n",
              "  }\n",
              "\n",
              "  .colab-df-quickchart {\n",
              "    background-color: var(--bg-color);\n",
              "    border: none;\n",
              "    border-radius: 50%;\n",
              "    cursor: pointer;\n",
              "    display: none;\n",
              "    fill: var(--fill-color);\n",
              "    height: 32px;\n",
              "    padding: 0;\n",
              "    width: 32px;\n",
              "  }\n",
              "\n",
              "  .colab-df-quickchart:hover {\n",
              "    background-color: var(--hover-bg-color);\n",
              "    box-shadow: 0 1px 2px rgba(60, 64, 67, 0.3), 0 1px 3px 1px rgba(60, 64, 67, 0.15);\n",
              "    fill: var(--button-hover-fill-color);\n",
              "  }\n",
              "\n",
              "  .colab-df-quickchart-complete:disabled,\n",
              "  .colab-df-quickchart-complete:disabled:hover {\n",
              "    background-color: var(--disabled-bg-color);\n",
              "    fill: var(--disabled-fill-color);\n",
              "    box-shadow: none;\n",
              "  }\n",
              "\n",
              "  .colab-df-spinner {\n",
              "    border: 2px solid var(--fill-color);\n",
              "    border-color: transparent;\n",
              "    border-bottom-color: var(--fill-color);\n",
              "    animation:\n",
              "      spin 1s steps(1) infinite;\n",
              "  }\n",
              "\n",
              "  @keyframes spin {\n",
              "    0% {\n",
              "      border-color: transparent;\n",
              "      border-bottom-color: var(--fill-color);\n",
              "      border-left-color: var(--fill-color);\n",
              "    }\n",
              "    20% {\n",
              "      border-color: transparent;\n",
              "      border-left-color: var(--fill-color);\n",
              "      border-top-color: var(--fill-color);\n",
              "    }\n",
              "    30% {\n",
              "      border-color: transparent;\n",
              "      border-left-color: var(--fill-color);\n",
              "      border-top-color: var(--fill-color);\n",
              "      border-right-color: var(--fill-color);\n",
              "    }\n",
              "    40% {\n",
              "      border-color: transparent;\n",
              "      border-right-color: var(--fill-color);\n",
              "      border-top-color: var(--fill-color);\n",
              "    }\n",
              "    60% {\n",
              "      border-color: transparent;\n",
              "      border-right-color: var(--fill-color);\n",
              "    }\n",
              "    80% {\n",
              "      border-color: transparent;\n",
              "      border-right-color: var(--fill-color);\n",
              "      border-bottom-color: var(--fill-color);\n",
              "    }\n",
              "    90% {\n",
              "      border-color: transparent;\n",
              "      border-bottom-color: var(--fill-color);\n",
              "    }\n",
              "  }\n",
              "</style>\n",
              "\n",
              "  <script>\n",
              "    async function quickchart(key) {\n",
              "      const quickchartButtonEl =\n",
              "        document.querySelector('#' + key + ' button');\n",
              "      quickchartButtonEl.disabled = true;  // To prevent multiple clicks.\n",
              "      quickchartButtonEl.classList.add('colab-df-spinner');\n",
              "      try {\n",
              "        const charts = await google.colab.kernel.invokeFunction(\n",
              "            'suggestCharts', [key], {});\n",
              "      } catch (error) {\n",
              "        console.error('Error during call to suggestCharts:', error);\n",
              "      }\n",
              "      quickchartButtonEl.classList.remove('colab-df-spinner');\n",
              "      quickchartButtonEl.classList.add('colab-df-quickchart-complete');\n",
              "    }\n",
              "    (() => {\n",
              "      let quickchartButtonEl =\n",
              "        document.querySelector('#df-c216a9f6-8371-45f1-a01b-45b8c43ab5d1 button');\n",
              "      quickchartButtonEl.style.display =\n",
              "        google.colab.kernel.accessAllowed ? 'block' : 'none';\n",
              "    })();\n",
              "  </script>\n",
              "</div>\n",
              "\n",
              "    </div>\n",
              "  </div>\n"
            ],
            "application/vnd.google.colaboratory.intrinsic+json": {
              "type": "dataframe",
              "variable_name": "city_day",
              "repr_error": "'str' object has no attribute 'empty'"
            }
          },
          "metadata": {},
          "execution_count": 15
        }
      ],
      "source": [
        "city_day.head(5)"
      ]
    },
    {
      "cell_type": "code",
      "execution_count": 16,
      "metadata": {
        "id": "CX4ifgH_hh93"
      },
      "outputs": [],
      "source": [
        "city_day=city_day.astype({'Date':str})\n",
        "city_day[['year','month','day']]=city_day.Date.str.split('-',expand=True)"
      ]
    },
    {
      "cell_type": "code",
      "execution_count": 17,
      "metadata": {
        "colab": {
          "base_uri": "https://localhost:8080/",
          "height": 206
        },
        "id": "_7f5lCUtieFM",
        "outputId": "73b59df3-2cc0-461c-b55e-6e2b00f6eb7b"
      },
      "outputs": [
        {
          "output_type": "execute_result",
          "data": {
            "text/plain": [
              "        City        Date  PM2.5   PM10    NO   NO2    NOx    NH3    CO   SO2  \\\n",
              "2010  Aizawl  2020-03-12  31.21  38.66  7.20  1.27  10.65  25.63  0.56  4.22   \n",
              "2011  Aizawl  2020-03-13  38.39  46.68  7.19  0.91  10.37  29.16  0.57  4.46   \n",
              "2012  Aizawl  2020-03-14  43.23  50.83  7.14  1.07  10.48  28.95  0.57  4.53   \n",
              "2013  Aizawl  2020-03-15  33.82  41.03  7.09  0.36   9.73  28.41  0.48  4.63   \n",
              "2014  Aizawl  2020-03-16  27.14  35.04  5.63  2.32   8.09  23.98  0.50  4.71   \n",
              "\n",
              "         O3  Benzene  Toluene   AQI  year month day  \n",
              "2010   2.81     0.01     0.08  52.0  2020    03  12  \n",
              "2011   0.18     0.00     0.00  60.0  2020    03  13  \n",
              "2012   0.41     0.00     0.00  62.0  2020    03  14  \n",
              "2013   0.30     0.00     0.00  70.0  2020    03  15  \n",
              "2014  13.02     0.13     0.68  54.0  2020    03  16  "
            ],
            "text/html": [
              "\n",
              "  <div id=\"df-cf33303a-96e5-4e70-b0b9-1ca1e5b1e0d1\" class=\"colab-df-container\">\n",
              "    <div>\n",
              "<style scoped>\n",
              "    .dataframe tbody tr th:only-of-type {\n",
              "        vertical-align: middle;\n",
              "    }\n",
              "\n",
              "    .dataframe tbody tr th {\n",
              "        vertical-align: top;\n",
              "    }\n",
              "\n",
              "    .dataframe thead th {\n",
              "        text-align: right;\n",
              "    }\n",
              "</style>\n",
              "<table border=\"1\" class=\"dataframe\">\n",
              "  <thead>\n",
              "    <tr style=\"text-align: right;\">\n",
              "      <th></th>\n",
              "      <th>City</th>\n",
              "      <th>Date</th>\n",
              "      <th>PM2.5</th>\n",
              "      <th>PM10</th>\n",
              "      <th>NO</th>\n",
              "      <th>NO2</th>\n",
              "      <th>NOx</th>\n",
              "      <th>NH3</th>\n",
              "      <th>CO</th>\n",
              "      <th>SO2</th>\n",
              "      <th>O3</th>\n",
              "      <th>Benzene</th>\n",
              "      <th>Toluene</th>\n",
              "      <th>AQI</th>\n",
              "      <th>year</th>\n",
              "      <th>month</th>\n",
              "      <th>day</th>\n",
              "    </tr>\n",
              "  </thead>\n",
              "  <tbody>\n",
              "    <tr>\n",
              "      <th>2010</th>\n",
              "      <td>Aizawl</td>\n",
              "      <td>2020-03-12</td>\n",
              "      <td>31.21</td>\n",
              "      <td>38.66</td>\n",
              "      <td>7.20</td>\n",
              "      <td>1.27</td>\n",
              "      <td>10.65</td>\n",
              "      <td>25.63</td>\n",
              "      <td>0.56</td>\n",
              "      <td>4.22</td>\n",
              "      <td>2.81</td>\n",
              "      <td>0.01</td>\n",
              "      <td>0.08</td>\n",
              "      <td>52.0</td>\n",
              "      <td>2020</td>\n",
              "      <td>03</td>\n",
              "      <td>12</td>\n",
              "    </tr>\n",
              "    <tr>\n",
              "      <th>2011</th>\n",
              "      <td>Aizawl</td>\n",
              "      <td>2020-03-13</td>\n",
              "      <td>38.39</td>\n",
              "      <td>46.68</td>\n",
              "      <td>7.19</td>\n",
              "      <td>0.91</td>\n",
              "      <td>10.37</td>\n",
              "      <td>29.16</td>\n",
              "      <td>0.57</td>\n",
              "      <td>4.46</td>\n",
              "      <td>0.18</td>\n",
              "      <td>0.00</td>\n",
              "      <td>0.00</td>\n",
              "      <td>60.0</td>\n",
              "      <td>2020</td>\n",
              "      <td>03</td>\n",
              "      <td>13</td>\n",
              "    </tr>\n",
              "    <tr>\n",
              "      <th>2012</th>\n",
              "      <td>Aizawl</td>\n",
              "      <td>2020-03-14</td>\n",
              "      <td>43.23</td>\n",
              "      <td>50.83</td>\n",
              "      <td>7.14</td>\n",
              "      <td>1.07</td>\n",
              "      <td>10.48</td>\n",
              "      <td>28.95</td>\n",
              "      <td>0.57</td>\n",
              "      <td>4.53</td>\n",
              "      <td>0.41</td>\n",
              "      <td>0.00</td>\n",
              "      <td>0.00</td>\n",
              "      <td>62.0</td>\n",
              "      <td>2020</td>\n",
              "      <td>03</td>\n",
              "      <td>14</td>\n",
              "    </tr>\n",
              "    <tr>\n",
              "      <th>2013</th>\n",
              "      <td>Aizawl</td>\n",
              "      <td>2020-03-15</td>\n",
              "      <td>33.82</td>\n",
              "      <td>41.03</td>\n",
              "      <td>7.09</td>\n",
              "      <td>0.36</td>\n",
              "      <td>9.73</td>\n",
              "      <td>28.41</td>\n",
              "      <td>0.48</td>\n",
              "      <td>4.63</td>\n",
              "      <td>0.30</td>\n",
              "      <td>0.00</td>\n",
              "      <td>0.00</td>\n",
              "      <td>70.0</td>\n",
              "      <td>2020</td>\n",
              "      <td>03</td>\n",
              "      <td>15</td>\n",
              "    </tr>\n",
              "    <tr>\n",
              "      <th>2014</th>\n",
              "      <td>Aizawl</td>\n",
              "      <td>2020-03-16</td>\n",
              "      <td>27.14</td>\n",
              "      <td>35.04</td>\n",
              "      <td>5.63</td>\n",
              "      <td>2.32</td>\n",
              "      <td>8.09</td>\n",
              "      <td>23.98</td>\n",
              "      <td>0.50</td>\n",
              "      <td>4.71</td>\n",
              "      <td>13.02</td>\n",
              "      <td>0.13</td>\n",
              "      <td>0.68</td>\n",
              "      <td>54.0</td>\n",
              "      <td>2020</td>\n",
              "      <td>03</td>\n",
              "      <td>16</td>\n",
              "    </tr>\n",
              "  </tbody>\n",
              "</table>\n",
              "</div>\n",
              "    <div class=\"colab-df-buttons\">\n",
              "\n",
              "  <div class=\"colab-df-container\">\n",
              "    <button class=\"colab-df-convert\" onclick=\"convertToInteractive('df-cf33303a-96e5-4e70-b0b9-1ca1e5b1e0d1')\"\n",
              "            title=\"Convert this dataframe to an interactive table.\"\n",
              "            style=\"display:none;\">\n",
              "\n",
              "  <svg xmlns=\"http://www.w3.org/2000/svg\" height=\"24px\" viewBox=\"0 -960 960 960\">\n",
              "    <path d=\"M120-120v-720h720v720H120Zm60-500h600v-160H180v160Zm220 220h160v-160H400v160Zm0 220h160v-160H400v160ZM180-400h160v-160H180v160Zm440 0h160v-160H620v160ZM180-180h160v-160H180v160Zm440 0h160v-160H620v160Z\"/>\n",
              "  </svg>\n",
              "    </button>\n",
              "\n",
              "  <style>\n",
              "    .colab-df-container {\n",
              "      display:flex;\n",
              "      gap: 12px;\n",
              "    }\n",
              "\n",
              "    .colab-df-convert {\n",
              "      background-color: #E8F0FE;\n",
              "      border: none;\n",
              "      border-radius: 50%;\n",
              "      cursor: pointer;\n",
              "      display: none;\n",
              "      fill: #1967D2;\n",
              "      height: 32px;\n",
              "      padding: 0 0 0 0;\n",
              "      width: 32px;\n",
              "    }\n",
              "\n",
              "    .colab-df-convert:hover {\n",
              "      background-color: #E2EBFA;\n",
              "      box-shadow: 0px 1px 2px rgba(60, 64, 67, 0.3), 0px 1px 3px 1px rgba(60, 64, 67, 0.15);\n",
              "      fill: #174EA6;\n",
              "    }\n",
              "\n",
              "    .colab-df-buttons div {\n",
              "      margin-bottom: 4px;\n",
              "    }\n",
              "\n",
              "    [theme=dark] .colab-df-convert {\n",
              "      background-color: #3B4455;\n",
              "      fill: #D2E3FC;\n",
              "    }\n",
              "\n",
              "    [theme=dark] .colab-df-convert:hover {\n",
              "      background-color: #434B5C;\n",
              "      box-shadow: 0px 1px 3px 1px rgba(0, 0, 0, 0.15);\n",
              "      filter: drop-shadow(0px 1px 2px rgba(0, 0, 0, 0.3));\n",
              "      fill: #FFFFFF;\n",
              "    }\n",
              "  </style>\n",
              "\n",
              "    <script>\n",
              "      const buttonEl =\n",
              "        document.querySelector('#df-cf33303a-96e5-4e70-b0b9-1ca1e5b1e0d1 button.colab-df-convert');\n",
              "      buttonEl.style.display =\n",
              "        google.colab.kernel.accessAllowed ? 'block' : 'none';\n",
              "\n",
              "      async function convertToInteractive(key) {\n",
              "        const element = document.querySelector('#df-cf33303a-96e5-4e70-b0b9-1ca1e5b1e0d1');\n",
              "        const dataTable =\n",
              "          await google.colab.kernel.invokeFunction('convertToInteractive',\n",
              "                                                    [key], {});\n",
              "        if (!dataTable) return;\n",
              "\n",
              "        const docLinkHtml = 'Like what you see? Visit the ' +\n",
              "          '<a target=\"_blank\" href=https://colab.research.google.com/notebooks/data_table.ipynb>data table notebook</a>'\n",
              "          + ' to learn more about interactive tables.';\n",
              "        element.innerHTML = '';\n",
              "        dataTable['output_type'] = 'display_data';\n",
              "        await google.colab.output.renderOutput(dataTable, element);\n",
              "        const docLink = document.createElement('div');\n",
              "        docLink.innerHTML = docLinkHtml;\n",
              "        element.appendChild(docLink);\n",
              "      }\n",
              "    </script>\n",
              "  </div>\n",
              "\n",
              "\n",
              "<div id=\"df-61e97260-df3c-46ca-94dc-8e3cd60a4026\">\n",
              "  <button class=\"colab-df-quickchart\" onclick=\"quickchart('df-61e97260-df3c-46ca-94dc-8e3cd60a4026')\"\n",
              "            title=\"Suggest charts\"\n",
              "            style=\"display:none;\">\n",
              "\n",
              "<svg xmlns=\"http://www.w3.org/2000/svg\" height=\"24px\"viewBox=\"0 0 24 24\"\n",
              "     width=\"24px\">\n",
              "    <g>\n",
              "        <path d=\"M19 3H5c-1.1 0-2 .9-2 2v14c0 1.1.9 2 2 2h14c1.1 0 2-.9 2-2V5c0-1.1-.9-2-2-2zM9 17H7v-7h2v7zm4 0h-2V7h2v10zm4 0h-2v-4h2v4z\"/>\n",
              "    </g>\n",
              "</svg>\n",
              "  </button>\n",
              "\n",
              "<style>\n",
              "  .colab-df-quickchart {\n",
              "      --bg-color: #E8F0FE;\n",
              "      --fill-color: #1967D2;\n",
              "      --hover-bg-color: #E2EBFA;\n",
              "      --hover-fill-color: #174EA6;\n",
              "      --disabled-fill-color: #AAA;\n",
              "      --disabled-bg-color: #DDD;\n",
              "  }\n",
              "\n",
              "  [theme=dark] .colab-df-quickchart {\n",
              "      --bg-color: #3B4455;\n",
              "      --fill-color: #D2E3FC;\n",
              "      --hover-bg-color: #434B5C;\n",
              "      --hover-fill-color: #FFFFFF;\n",
              "      --disabled-bg-color: #3B4455;\n",
              "      --disabled-fill-color: #666;\n",
              "  }\n",
              "\n",
              "  .colab-df-quickchart {\n",
              "    background-color: var(--bg-color);\n",
              "    border: none;\n",
              "    border-radius: 50%;\n",
              "    cursor: pointer;\n",
              "    display: none;\n",
              "    fill: var(--fill-color);\n",
              "    height: 32px;\n",
              "    padding: 0;\n",
              "    width: 32px;\n",
              "  }\n",
              "\n",
              "  .colab-df-quickchart:hover {\n",
              "    background-color: var(--hover-bg-color);\n",
              "    box-shadow: 0 1px 2px rgba(60, 64, 67, 0.3), 0 1px 3px 1px rgba(60, 64, 67, 0.15);\n",
              "    fill: var(--button-hover-fill-color);\n",
              "  }\n",
              "\n",
              "  .colab-df-quickchart-complete:disabled,\n",
              "  .colab-df-quickchart-complete:disabled:hover {\n",
              "    background-color: var(--disabled-bg-color);\n",
              "    fill: var(--disabled-fill-color);\n",
              "    box-shadow: none;\n",
              "  }\n",
              "\n",
              "  .colab-df-spinner {\n",
              "    border: 2px solid var(--fill-color);\n",
              "    border-color: transparent;\n",
              "    border-bottom-color: var(--fill-color);\n",
              "    animation:\n",
              "      spin 1s steps(1) infinite;\n",
              "  }\n",
              "\n",
              "  @keyframes spin {\n",
              "    0% {\n",
              "      border-color: transparent;\n",
              "      border-bottom-color: var(--fill-color);\n",
              "      border-left-color: var(--fill-color);\n",
              "    }\n",
              "    20% {\n",
              "      border-color: transparent;\n",
              "      border-left-color: var(--fill-color);\n",
              "      border-top-color: var(--fill-color);\n",
              "    }\n",
              "    30% {\n",
              "      border-color: transparent;\n",
              "      border-left-color: var(--fill-color);\n",
              "      border-top-color: var(--fill-color);\n",
              "      border-right-color: var(--fill-color);\n",
              "    }\n",
              "    40% {\n",
              "      border-color: transparent;\n",
              "      border-right-color: var(--fill-color);\n",
              "      border-top-color: var(--fill-color);\n",
              "    }\n",
              "    60% {\n",
              "      border-color: transparent;\n",
              "      border-right-color: var(--fill-color);\n",
              "    }\n",
              "    80% {\n",
              "      border-color: transparent;\n",
              "      border-right-color: var(--fill-color);\n",
              "      border-bottom-color: var(--fill-color);\n",
              "    }\n",
              "    90% {\n",
              "      border-color: transparent;\n",
              "      border-bottom-color: var(--fill-color);\n",
              "    }\n",
              "  }\n",
              "</style>\n",
              "\n",
              "  <script>\n",
              "    async function quickchart(key) {\n",
              "      const quickchartButtonEl =\n",
              "        document.querySelector('#' + key + ' button');\n",
              "      quickchartButtonEl.disabled = true;  // To prevent multiple clicks.\n",
              "      quickchartButtonEl.classList.add('colab-df-spinner');\n",
              "      try {\n",
              "        const charts = await google.colab.kernel.invokeFunction(\n",
              "            'suggestCharts', [key], {});\n",
              "      } catch (error) {\n",
              "        console.error('Error during call to suggestCharts:', error);\n",
              "      }\n",
              "      quickchartButtonEl.classList.remove('colab-df-spinner');\n",
              "      quickchartButtonEl.classList.add('colab-df-quickchart-complete');\n",
              "    }\n",
              "    (() => {\n",
              "      let quickchartButtonEl =\n",
              "        document.querySelector('#df-61e97260-df3c-46ca-94dc-8e3cd60a4026 button');\n",
              "      quickchartButtonEl.style.display =\n",
              "        google.colab.kernel.accessAllowed ? 'block' : 'none';\n",
              "    })();\n",
              "  </script>\n",
              "</div>\n",
              "\n",
              "    </div>\n",
              "  </div>\n"
            ],
            "application/vnd.google.colaboratory.intrinsic+json": {
              "type": "dataframe",
              "variable_name": "city_day",
              "repr_error": "'str' object has no attribute 'empty'"
            }
          },
          "metadata": {},
          "execution_count": 17
        }
      ],
      "source": [
        "city_day.head(5)"
      ]
    },
    {
      "cell_type": "code",
      "execution_count": 18,
      "metadata": {
        "id": "F0Z_Ksnyrfkx"
      },
      "outputs": [],
      "source": [
        "city_day=city_day.astype({'year':'int32','month':'int32','day':'int32'})"
      ]
    },
    {
      "cell_type": "code",
      "execution_count": 19,
      "metadata": {
        "id": "fGnMFNE84Q0D"
      },
      "outputs": [],
      "source": [
        "city_day.drop(['Date'],axis=1,inplace=True)"
      ]
    },
    {
      "cell_type": "code",
      "execution_count": 20,
      "metadata": {
        "colab": {
          "base_uri": "https://localhost:8080/"
        },
        "id": "NJxKWkJInF3C",
        "outputId": "3bfef68f-7bfa-44c2-ab36-00086c6a92ea"
      },
      "outputs": [
        {
          "output_type": "stream",
          "name": "stdout",
          "text": [
            "<class 'pandas.core.frame.DataFrame'>\n",
            "Int64Index: 10654 entries, 2010 to 29529\n",
            "Data columns (total 16 columns):\n",
            " #   Column   Non-Null Count  Dtype  \n",
            "---  ------   --------------  -----  \n",
            " 0   City     10654 non-null  object \n",
            " 1   PM2.5    10654 non-null  float64\n",
            " 2   PM10     10654 non-null  float64\n",
            " 3   NO       10654 non-null  float64\n",
            " 4   NO2      10654 non-null  float64\n",
            " 5   NOx      10654 non-null  float64\n",
            " 6   NH3      10654 non-null  float64\n",
            " 7   CO       10654 non-null  float64\n",
            " 8   SO2      10654 non-null  float64\n",
            " 9   O3       10654 non-null  float64\n",
            " 10  Benzene  10654 non-null  float64\n",
            " 11  Toluene  10654 non-null  float64\n",
            " 12  AQI      10654 non-null  float64\n",
            " 13  year     10654 non-null  int32  \n",
            " 14  month    10654 non-null  int32  \n",
            " 15  day      10654 non-null  int32  \n",
            "dtypes: float64(12), int32(3), object(1)\n",
            "memory usage: 1.3+ MB\n"
          ]
        }
      ],
      "source": [
        "city_day.info()"
      ]
    },
    {
      "cell_type": "code",
      "execution_count": 21,
      "metadata": {
        "colab": {
          "base_uri": "https://localhost:8080/",
          "height": 332
        },
        "id": "M6GPOQIcfLoF",
        "outputId": "d3a096f1-38cf-4470-8a90-9462598a63f8"
      },
      "outputs": [
        {
          "output_type": "display_data",
          "data": {
            "text/plain": [
              "<Figure size 800x300 with 1 Axes>"
            ],
            "image/png": "[encoded data removed]"
          },
          "metadata": {}
        }
      ],
      "source": [
        "boxplot = city_day.boxplot(figsize = (8,3), rot = 50, fontsize= '10', grid = False)\n"
      ]
    },
    {
      "cell_type": "code",
      "execution_count": 22,
      "metadata": {
        "colab": {
          "base_uri": "https://localhost:8080/",
          "height": 531
        },
        "id": "kRKR3ltwNVj7",
        "outputId": "ea95e3a9-7009-44b6-8f8d-3dfdd9d8060d"
      },
      "outputs": [
        {
          "output_type": "display_data",
          "data": {
            "text/plain": [
              "<Figure size 1000x500 with 1 Axes>"
            ],
            "image/png": "[encoded data removed]"
          },
          "metadata": {}
        }
      ],
      "source": [
        "boxplot = city_day.boxplot(by='City' , column =['AQI'] ,figsize = (10,5), rot = 20, fontsize= '10', grid = False)\n"
      ]
    },
    {
      "cell_type": "code",
      "execution_count": 23,
      "metadata": {
        "colab": {
          "base_uri": "https://localhost:8080/",
          "height": 496
        },
        "id": "TZUQ-Lu16OPl",
        "outputId": "9dc5e9af-3b2f-47ed-a760-21f5e4b71c21"
      },
      "outputs": [
        {
          "output_type": "execute_result",
          "data": {
            "text/plain": [
              "<Axes: title={'center': 'AQI'}, xlabel='year'>"
            ]
          },
          "metadata": {},
          "execution_count": 23
        },
        {
          "output_type": "display_data",
          "data": {
            "text/plain": [
              "<Figure size 640x480 with 1 Axes>"
            ],
            "image/png": "[encoded data removed]"
          },
          "metadata": {}
        }
      ],
      "source": [
        "city_day.boxplot(by ='year', column =['AQI'], grid = False)"
      ]
    },
    {
      "cell_type": "markdown",
      "metadata": {
        "id": "-KR95lhvToMF"
      },
      "source": [
        "**The year in which air particle PM2.5 production was highest.**"
      ]
    },
    {
      "cell_type": "code",
      "execution_count": 24,
      "metadata": {
        "colab": {
          "base_uri": "https://localhost:8080/",
          "height": 496
        },
        "id": "1pZ8ohq07bx-",
        "outputId": "0596133b-d03f-4a44-e7de-8a4c15dde0be"
      },
      "outputs": [
        {
          "output_type": "execute_result",
          "data": {
            "text/plain": [
              "<Axes: title={'center': 'PM2.5'}, xlabel='year'>"
            ]
          },
          "metadata": {},
          "execution_count": 24
        },
        {
          "output_type": "display_data",
          "data": {
            "text/plain": [
              "<Figure size 640x480 with 1 Axes>"
            ],
            "image/png": "[encoded data removed]"
          },
          "metadata": {}
        }
      ],
      "source": [
        "city_day.boxplot(by ='year', column =['PM2.5'], grid = False)"
      ]
    },
    {
      "cell_type": "markdown",
      "metadata": {
        "id": "ppxVQHamTBW_"
      },
      "source": [
        "**The month in which ozone production was highest.**"
      ]
    },
    {
      "cell_type": "code",
      "execution_count": 25,
      "metadata": {
        "colab": {
          "base_uri": "https://localhost:8080/",
          "height": 496
        },
        "id": "qVde2Qs5f2wE",
        "outputId": "34531b31-87df-4843-ecae-0b187d1ec175"
      },
      "outputs": [
        {
          "output_type": "execute_result",
          "data": {
            "text/plain": [
              "<Axes: title={'center': 'O3'}, xlabel='month'>"
            ]
          },
          "metadata": {},
          "execution_count": 25
        },
        {
          "output_type": "display_data",
          "data": {
            "text/plain": [
              "<Figure size 640x480 with 1 Axes>"
            ],
            "image/png": "[encoded data removed]"
          },
          "metadata": {}
        }
      ],
      "source": [
        "city_day.boxplot(by ='month', column =['O3'], grid = False)"
      ]
    },
    {
      "cell_type": "markdown",
      "metadata": {
        "id": "Jy_Zfqj7P8mu"
      },
      "source": [
        "**Top major air pollutant according to world health organisation (WHO)**"
      ]
    },
    {
      "cell_type": "code",
      "execution_count": 26,
      "metadata": {
        "colab": {
          "base_uri": "https://localhost:8080/",
          "height": 477
        },
        "id": "IPeOR1ZZjJGM",
        "outputId": "1a39d163-609d-426c-edb2-01ca90d48282"
      },
      "outputs": [
        {
          "output_type": "execute_result",
          "data": {
            "text/plain": [
              "<Axes: >"
            ]
          },
          "metadata": {},
          "execution_count": 26
        },
        {
          "output_type": "display_data",
          "data": {
            "text/plain": [
              "<Figure size 1000x500 with 1 Axes>"
            ],
            "image/png": "[encoded data removed]"
          },
          "metadata": {}
        }
      ],
      "source": [
        "city_day.boxplot(column=['PM2.5','PM10','NO2','SO2','CO','O3'],figsize = (10,5), grid=False, fontsize=20)"
      ]
    },
    {
      "cell_type": "code",
      "execution_count": 27,
      "metadata": {
        "id": "8eJfq6zykPS4"
      },
      "outputs": [],
      "source": [
        "city_day.drop(['City'],axis=1,inplace=True)"
      ]
    },
    {
      "cell_type": "code",
      "execution_count": 28,
      "metadata": {
        "colab": {
          "base_uri": "https://localhost:8080/"
        },
        "id": "MZ_WdnhZIdaQ",
        "outputId": "727dc812-5f37-4947-d91b-e538620fa2b7"
      },
      "outputs": [
        {
          "output_type": "stream",
          "name": "stdout",
          "text": [
            "<class 'pandas.core.frame.DataFrame'>\n",
            "Int64Index: 10654 entries, 2010 to 29529\n",
            "Data columns (total 15 columns):\n",
            " #   Column   Non-Null Count  Dtype  \n",
            "---  ------   --------------  -----  \n",
            " 0   PM2.5    10654 non-null  float64\n",
            " 1   PM10     10654 non-null  float64\n",
            " 2   NO       10654 non-null  float64\n",
            " 3   NO2      10654 non-null  float64\n",
            " 4   NOx      10654 non-null  float64\n",
            " 5   NH3      10654 non-null  float64\n",
            " 6   CO       10654 non-null  float64\n",
            " 7   SO2      10654 non-null  float64\n",
            " 8   O3       10654 non-null  float64\n",
            " 9   Benzene  10654 non-null  float64\n",
            " 10  Toluene  10654 non-null  float64\n",
            " 11  AQI      10654 non-null  float64\n",
            " 12  year     10654 non-null  int32  \n",
            " 13  month    10654 non-null  int32  \n",
            " 14  day      10654 non-null  int32  \n",
            "dtypes: float64(12), int32(3)\n",
            "memory usage: 1.2 MB\n"
          ]
        }
      ],
      "source": [
        "city_day.info()"
      ]
    },
    {
      "cell_type": "code",
      "execution_count": 29,
      "metadata": {
        "id": "g_vF0JefJdWp"
      },
      "outputs": [],
      "source": [
        "city_day= city_day.reindex(['PM2.5','PM10','NO','NO2','NOx','NH3','CO','SO2','O3','Benzene','Toluene','year','month','day','AQI'], axis=1)"
      ]
    },
    {
      "cell_type": "code",
      "execution_count": 43,
      "metadata": {
        "colab": {
          "base_uri": "https://localhost:8080/"
        },
        "id": "SokXhht3K1wz",
        "outputId": "788303c6-a96e-49ed-f5b8-d1c7c4fb5370"
      },
      "outputs": [
        {
          "output_type": "stream",
          "name": "stdout",
          "text": [
            "<class 'pandas.core.frame.DataFrame'>\n",
            "Int64Index: 10654 entries, 2010 to 29529\n",
            "Data columns (total 15 columns):\n",
            " #   Column   Non-Null Count  Dtype  \n",
            "---  ------   --------------  -----  \n",
            " 0   PM2.5    10654 non-null  float64\n",
            " 1   PM10     10654 non-null  float64\n",
            " 2   NO       10654 non-null  float64\n",
            " 3   NO2      10654 non-null  float64\n",
            " 4   NOx      10654 non-null  float64\n",
            " 5   NH3      10654 non-null  float64\n",
            " 6   CO       10654 non-null  float64\n",
            " 7   SO2      10654 non-null  float64\n",
            " 8   O3       10654 non-null  float64\n",
            " 9   Benzene  10654 non-null  float64\n",
            " 10  Toluene  10654 non-null  float64\n",
            " 11  year     10654 non-null  int32  \n",
            " 12  month    10654 non-null  int32  \n",
            " 13  day      10654 non-null  int32  \n",
            " 14  AQI      10654 non-null  float64\n",
            "dtypes: float64(12), int32(3)\n",
            "memory usage: 1.2 MB\n"
          ]
        }
      ],
      "source": [
        "city_day.info()\n"
      ]
    },
    {
      "cell_type": "code",
      "execution_count": 31,
      "metadata": {
        "colab": {
          "base_uri": "https://localhost:8080/"
        },
        "id": "q-_R5JdLj0Cs",
        "outputId": "4c16b2d5-9003-428e-d428-5235a2741317"
      },
      "outputs": [
        {
          "output_type": "stream",
          "name": "stdout",
          "text": [
            "<class 'numpy.ndarray'>\n",
            "<class 'numpy.ndarray'>\n"
          ]
        }
      ],
      "source": [
        "X = city_day.iloc[ :,0:14].values\n",
        "Y = city_day['AQI'].values\n",
        "print(type(Y))\n",
        "print(type(X))"
      ]
    },
    {
      "cell_type": "code",
      "execution_count": 32,
      "metadata": {
        "colab": {
          "base_uri": "https://localhost:8080/"
        },
        "id": "J40wQdi8L39W",
        "outputId": "c8b34832-c360-47b5-c190-9e397f031687"
      },
      "outputs": [
        {
          "output_type": "stream",
          "name": "stdout",
          "text": [
            "(10654, 14)\n",
            "(10654,)\n"
          ]
        }
      ],
      "source": [
        "print(X.shape)\n",
        "print(Y.shape)"
      ]
    },
    {
      "cell_type": "code",
      "execution_count": 33,
      "metadata": {
        "id": "h7sJI3aUjw-P"
      },
      "outputs": [],
      "source": [
        "from sklearn.model_selection import train_test_split\n",
        "X_train,X_test,Y_train,Y_test = train_test_split(X,Y,test_size =1/3,random_state=0)"
      ]
    },
    {
      "cell_type": "code",
      "execution_count": 34,
      "metadata": {
        "colab": {
          "base_uri": "https://localhost:8080/"
        },
        "id": "VqK_2XNpjs9z",
        "outputId": "14eebd6f-01a0-4a3a-cca6-5c26680fa192"
      },
      "outputs": [
        {
          "output_type": "stream",
          "name": "stdout",
          "text": [
            "X_train shape: (7102, 14)\n",
            "X_test shape: (3552, 14)\n",
            "Y_train shape: (7102,)\n",
            "Y_test shape: (3552,)\n"
          ]
        }
      ],
      "source": [
        "print('X_train shape:',X_train.shape)\n",
        "print('X_test shape:',X_test.shape)\n",
        "print('Y_train shape:',Y_train.shape)\n",
        "print('Y_test shape:',Y_test.shape)"
      ]
    },
    {
      "cell_type": "code",
      "execution_count": 35,
      "metadata": {
        "colab": {
          "base_uri": "https://localhost:8080/"
        },
        "id": "7VAQfR8ElFgW",
        "outputId": "21291aac-d425-43ed-c09e-7f960b851c60"
      },
      "outputs": [
        {
          "output_type": "stream",
          "name": "stdout",
          "text": [
            "          PM2.5      PM10        NO       NO2       NOx       NH3        CO  \\\n",
            "0      0.015439  0.019124  0.003562  0.000628  0.005268  0.012679  0.000277   \n",
            "1      0.018985  0.023085  0.003556  0.000450  0.005128  0.014421  0.000282   \n",
            "2      0.021376  0.025134  0.003531  0.000529  0.005182  0.014315  0.000282   \n",
            "3      0.016724  0.020290  0.003506  0.000178  0.004812  0.014049  0.000237   \n",
            "4      0.013426  0.017334  0.002785  0.001148  0.004002  0.011863  0.000247   \n",
            "...         ...       ...       ...       ...       ...       ...       ...   \n",
            "10649  0.003775  0.015965  0.002924  0.011512  0.008504  0.005516  0.000228   \n",
            "10650  0.007429  0.025195  0.003799  0.012395  0.009665  0.006168  0.000232   \n",
            "10651  0.012049  0.036616  0.001690  0.012879  0.008169  0.005925  0.000257   \n",
            "10652  0.011324  0.032489  0.001705  0.014596  0.009060  0.005294  0.000237   \n",
            "10653  0.008229  0.024711  0.002003  0.014469  0.009297  0.004960  0.000257   \n",
            "\n",
            "            SO2        O3   Benzene   Toluene      year     month       day  \\\n",
            "0      0.002088  0.001390  0.000005  0.000040  0.999244  0.001484  0.005936   \n",
            "1      0.002206  0.000089  0.000000  0.000000  0.998965  0.001484  0.006429   \n",
            "2      0.002240  0.000203  0.000000  0.000000  0.998835  0.001483  0.006923   \n",
            "3      0.002290  0.000148  0.000000  0.000000  0.998907  0.001484  0.007418   \n",
            "4      0.002330  0.006441  0.000064  0.000336  0.999264  0.001484  0.007915   \n",
            "...         ...       ...       ...       ...       ...       ...       ...   \n",
            "10649  0.003399  0.009845  0.000717  0.002657  0.999328  0.002968  0.012863   \n",
            "10650  0.004229  0.011524  0.001108  0.005970  0.999112  0.002968  0.013354   \n",
            "10651  0.006286  0.014895  0.000366  0.001092  0.998290  0.002965  0.013838   \n",
            "10652  0.004162  0.015303  0.000005  0.000005  0.998446  0.002966  0.014334   \n",
            "10653  0.004866  0.013995  0.000000  0.000000  0.998917  0.002967  0.014835   \n",
            "\n",
            "            AQI  \n",
            "0      0.025723  \n",
            "1      0.029672  \n",
            "2      0.030657  \n",
            "3      0.034616  \n",
            "4      0.026713  \n",
            "...         ...  \n",
            "10649  0.023252  \n",
            "10650  0.020279  \n",
            "10651  0.034594  \n",
            "10652  0.033611  \n",
            "10653  0.026704  \n",
            "\n",
            "[10654 rows x 15 columns]\n"
          ]
        }
      ],
      "source": [
        "#feature scaling\n",
        "from sklearn.preprocessing import Normalizer\n",
        "scaler = Normalizer()\n",
        "scaled_data = scaler.fit_transform(city_day)\n",
        "scaled_data = pd.DataFrame(scaled_data,columns=city_day.columns)\n",
        "print(scaled_data)"
      ]
    },
    {
      "cell_type": "code",
      "execution_count": 36,
      "metadata": {
        "colab": {
          "base_uri": "https://localhost:8080/",
          "height": 74
        },
        "id": "Zw02CxBXjEBL",
        "outputId": "11e1a94a-2273-4d2a-cf73-b59e6e797191"
      },
      "outputs": [
        {
          "output_type": "execute_result",
          "data": {
            "text/plain": [
              "LinearRegression()"
            ],
            "text/html": [
              "<style>#sk-container-id-1 {color: black;background-color: white;}#sk-container-id-1 pre{padding: 0;}#sk-container-id-1 div.sk-toggleable {background-color: white;}#sk-container-id-1 label.sk-toggleable__label {cursor: pointer;display: block;width: 100%;margin-bottom: 0;padding: 0.3em;box-sizing: border-box;text-align: center;}#sk-container-id-1 label.sk-toggleable__label-arrow:before {content: \"▸\";float: left;margin-right: 0.25em;color: #696969;}#sk-container-id-1 label.sk-toggleable__label-arrow:hover:before {color: black;}#sk-container-id-1 div.sk-estimator:hover label.sk-toggleable__label-arrow:before {color: black;}#sk-container-id-1 div.sk-toggleable__content {max-height: 0;max-width: 0;overflow: hidden;text-align: left;background-color: #f0f8ff;}#sk-container-id-1 div.sk-toggleable__content pre {margin: 0.2em;color: black;border-radius: 0.25em;background-color: #f0f8ff;}#sk-container-id-1 input.sk-toggleable__control:checked~div.sk-toggleable__content {max-height: 200px;max-width: 100%;overflow: auto;}#sk-container-id-1 input.sk-toggleable__control:checked~label.sk-toggleable__label-arrow:before {content: \"▾\";}#sk-container-id-1 div.sk-estimator input.sk-toggleable__control:checked~label.sk-toggleable__label {background-color: #d4ebff;}#sk-container-id-1 div.sk-label input.sk-toggleable__control:checked~label.sk-toggleable__label {background-color: #d4ebff;}#sk-container-id-1 input.sk-hidden--visually {border: 0;clip: rect(1px 1px 1px 1px);clip: rect(1px, 1px, 1px, 1px);height: 1px;margin: -1px;overflow: hidden;padding: 0;position: absolute;width: 1px;}#sk-container-id-1 div.sk-estimator {font-family: monospace;background-color: #f0f8ff;border: 1px dotted black;border-radius: 0.25em;box-sizing: border-box;margin-bottom: 0.5em;}#sk-container-id-1 div.sk-estimator:hover {background-color: #d4ebff;}#sk-container-id-1 div.sk-parallel-item::after {content: \"\";width: 100%;border-bottom: 1px solid gray;flex-grow: 1;}#sk-container-id-1 div.sk-label:hover label.sk-toggleable__label {background-color: #d4ebff;}#sk-container-id-1 div.sk-serial::before {content: \"\";position: absolute;border-left: 1px solid gray;box-sizing: border-box;top: 0;bottom: 0;left: 50%;z-index: 0;}#sk-container-id-1 div.sk-serial {display: flex;flex-direction: column;align-items: center;background-color: white;padding-right: 0.2em;padding-left: 0.2em;position: relative;}#sk-container-id-1 div.sk-item {position: relative;z-index: 1;}#sk-container-id-1 div.sk-parallel {display: flex;align-items: stretch;justify-content: center;background-color: white;position: relative;}#sk-container-id-1 div.sk-item::before, #sk-container-id-1 div.sk-parallel-item::before {content: \"\";position: absolute;border-left: 1px solid gray;box-sizing: border-box;top: 0;bottom: 0;left: 50%;z-index: -1;}#sk-container-id-1 div.sk-parallel-item {display: flex;flex-direction: column;z-index: 1;position: relative;background-color: white;}#sk-container-id-1 div.sk-parallel-item:first-child::after {align-self: flex-end;width: 50%;}#sk-container-id-1 div.sk-parallel-item:last-child::after {align-self: flex-start;width: 50%;}#sk-container-id-1 div.sk-parallel-item:only-child::after {width: 0;}#sk-container-id-1 div.sk-dashed-wrapped {border: 1px dashed gray;margin: 0 0.4em 0.5em 0.4em;box-sizing: border-box;padding-bottom: 0.4em;background-color: white;}#sk-container-id-1 div.sk-label label {font-family: monospace;font-weight: bold;display: inline-block;line-height: 1.2em;}#sk-container-id-1 div.sk-label-container {text-align: center;}#sk-container-id-1 div.sk-container {/* jupyter's `normalize.less` sets `[hidden] { display: none; }` but bootstrap.min.css set `[hidden] { display: none !important; }` so we also need the `!important` here to be able to override the default hidden behavior on the sphinx rendered scikit-learn.org. See: https://github.com/scikit-learn/scikit-learn/issues/21755 */display: inline-block !important;position: relative;}#sk-container-id-1 div.sk-text-repr-fallback {display: none;}</style><div id=\"sk-container-id-1\" class=\"sk-top-container\"><div class=\"sk-text-repr-fallback\"><pre>LinearRegression()</pre><b>In a Jupyter environment, please rerun this cell to show the HTML representation or trust the notebook. <br />On GitHub, the HTML representation is unable to render, please try loading this page with nbviewer.org.</b></div><div class=\"sk-container\" hidden><div class=\"sk-item\"><div class=\"sk-estimator sk-toggleable\"><input class=\"sk-toggleable__control sk-hidden--visually\" id=\"sk-estimator-id-1\" type=\"checkbox\" checked><label for=\"sk-estimator-id-1\" class=\"sk-toggleable__label sk-toggleable__label-arrow\">LinearRegression</label><div class=\"sk-toggleable__content\"><pre>LinearRegression()</pre></div></div></div></div></div>"
            ]
          },
          "metadata": {},
          "execution_count": 36
        }
      ],
      "source": [
        "from sklearn.linear_model import LinearRegression\n",
        "clf=LinearRegression()\n",
        "clf.fit(X_train,Y_train)"
      ]
    },
    {
      "cell_type": "code",
      "execution_count": 37,
      "metadata": {
        "colab": {
          "base_uri": "https://localhost:8080/"
        },
        "id": "HN9FESLEv5Sy",
        "outputId": "a73784f2-0d8e-44e6-dfb6-41f05bfbebcb"
      },
      "outputs": [
        {
          "output_type": "stream",
          "name": "stdout",
          "text": [
            "[266.48362101 101.36494746  79.21340859 ... 155.90410655  72.23486553\n",
            " 125.32050478]\n",
            "[340. 106.  54. ... 160.  69.  94.]\n"
          ]
        }
      ],
      "source": [
        "Y_predict=clf.predict(X_test)\n",
        "print(Y_predict)\n",
        "print(Y_test)"
      ]
    },
    {
      "cell_type": "code",
      "execution_count": 38,
      "metadata": {
        "colab": {
          "base_uri": "https://localhost:8080/"
        },
        "id": "ITHVEOSUyVTV",
        "outputId": "e01806ac-04e1-4dde-df83-ca60c588013d"
      },
      "outputs": [
        {
          "output_type": "stream",
          "name": "stdout",
          "text": [
            "rmse = 28.941842522833145\n",
            "r2 = 0.9120123088696569\n"
          ]
        }
      ],
      "source": [
        "from sklearn.metrics import mean_absolute_error,mean_squared_error,r2_score\n",
        "mae=mean_absolute_error(Y_test,Y_predict)\n",
        "mse=mean_squared_error(Y_test,Y_predict)\n",
        "rmse=mean_squared_error(Y_test,Y_predict,squared=False)\n",
        "print('rmse =',rmse)\n",
        "r2=r2_score(Y_test,Y_predict)\n",
        "print('r2 =',r2)\n"
      ]
    },
    {
      "cell_type": "code",
      "execution_count": 39,
      "metadata": {
        "colab": {
          "base_uri": "https://localhost:8080/"
        },
        "id": "yxc2o7N9URMW",
        "outputId": "2c5682ed-6c95-4438-8871-c51b3e369b84"
      },
      "outputs": [
        {
          "output_type": "stream",
          "name": "stdout",
          "text": [
            "(10654, 1)\n",
            "(10654,)\n"
          ]
        }
      ],
      "source": [
        "from sklearn import linear_model\n",
        "X = city_day.iloc[ :,0:1].values\n",
        "Y = city_day['AQI'].values\n",
        "print(X.shape)\n",
        "print(Y.shape)"
      ]
    },
    {
      "cell_type": "code",
      "execution_count": 40,
      "metadata": {
        "id": "7eO5k4evUQ_f"
      },
      "outputs": [],
      "source": [
        "from sklearn import linear_model\n",
        "ols = linear_model.LinearRegression()\n",
        "model = ols.fit(X, Y)\n",
        "response = model.predict(X)"
      ]
    },
    {
      "cell_type": "code",
      "execution_count": 41,
      "metadata": {
        "id": "SsrMws-3UQyf"
      },
      "outputs": [],
      "source": [
        "r2 = model.score(X, Y)"
      ]
    },
    {
      "cell_type": "code",
      "execution_count": 42,
      "metadata": {
        "colab": {
          "base_uri": "https://localhost:8080/",
          "height": 407
        },
        "id": "A8dSJNKEUPdf",
        "outputId": "c3cd1444-bf37-4d3e-d498-3388bdca7913"
      },
      "outputs": [
        {
          "output_type": "display_data",
          "data": {
            "text/plain": [
              "<Figure size 800x400 with 1 Axes>"
            ],
            "image/png": "[encoded data removed]"
          },
          "metadata": {}
        }
      ],
      "source": [
        "plt.style.use('default')\n",
        "plt.style.use('ggplot')\n",
        "\n",
        "fig, ax = plt.subplots(figsize=(8, 4))\n",
        "\n",
        "ax.plot(X, response, color='k', label='Regression model')\n",
        "ax.scatter(X,Y,edgecolor='k', facecolor='grey', alpha=0.5, label='Relationship between attributes ')\n",
        "ax.set_ylabel('AQI', fontsize=14)\n",
        "ax.set_xlabel('PM2.5', fontsize=14)\n",
        "ax.text(0.8, 0.1, 'nitin_bobade', fontsize=13, ha='center', va='center',\n",
        "         transform=ax.transAxes, color='grey', alpha=0.5)\n",
        "ax.legend(facecolor='white', fontsize=11)\n",
        "ax.set_title('$R^2= %.2f$' % r2, fontsize=18)\n",
        "\n",
        "fig.tight_layout()"
      ]
    },
    {
      "cell_type": "markdown",
      "source": [
        "conclusion -\n",
        "In bold text conclusion, this air quality project has provided valuable insights into the dynamics of pollutants and their variations under different circumstances. Through the utilization of various visualization techniques, we were able to observe fluctuations in key pollutants and analyze their trends over time. The application of regression algorithms further enhanced our understanding by quantifying the relationships between different pollutants, as evidenced by the best-fit lines derived from the data.\n",
        "\n",
        "Moving forward, the insights gained from this project can inform policy decisions and guide interventions aimed at improving air quality standards. Continued research and monitoring efforts will be crucial in addressing the complex challenges associated with environmental pollution and safeguarding the well-being of current and future generations."
      ],
      "metadata": {
        "id": "20ANGXp1y1wd"
      }
    }
  ],
  "metadata": {
    "colab": {
      "provenance": []
    },
    "kernelspec": {
      "display_name": "Python 3",
      "name": "python3"
    },
    "language_info": {
      "name": "python"
    }
  },
  "nbformat": 4,
  "nbformat_minor": 0
}